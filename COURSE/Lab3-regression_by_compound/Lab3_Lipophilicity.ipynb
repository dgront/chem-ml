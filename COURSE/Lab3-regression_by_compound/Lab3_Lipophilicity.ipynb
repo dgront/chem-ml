{
  "nbformat": 4,
  "nbformat_minor": 0,
  "metadata": {
    "colab": {
      "provenance": []
    },
    "kernelspec": {
      "name": "python3",
      "display_name": "Python 3"
    },
    "language_info": {
      "name": "python"
    }
  },
  "cells": [
    {
      "cell_type": "markdown",
      "source": [
        "# Prepare input data"
      ],
      "metadata": {
        "id": "HYDuou7bK9wl"
      }
    },
    {
      "cell_type": "markdown",
      "source": [
        "**1. Connect to google drive and see if the input file is there**"
      ],
      "metadata": {
        "id": "yTweAT29Kb47"
      }
    },
    {
      "cell_type": "code",
      "execution_count": 1,
      "metadata": {
        "id": "PCy0jW7ydfW7"
      },
      "outputs": [],
      "source": [
        "# commentout the line below to actually run this cell!\n",
        "%%script false --no-raise-error\n",
        "# import google drive module and mount it\n",
        "from google.colab import drive\n",
        "drive.mount('/content/drive')\n",
        "\n",
        "# list the files on the path just to check if our file is actually there\n",
        "import os\n",
        "path = \"/content/drive/MyDrive/ML\" #change your_subfolder to the actual subfolder name\n",
        "for filename in os.listdir(path):\n",
        "  print(filename)"
      ]
    },
    {
      "cell_type": "markdown",
      "source": [
        "**2a. Read the input file from Google Drive**"
      ],
      "metadata": {
        "id": "v954kyOpL5ny"
      }
    },
    {
      "cell_type": "code",
      "source": [
        "# commentout the line below to actually run this cell!\n",
        "%%script false --no-raise-error\n",
        "\n",
        "# Specify the correct path to your file!!\n",
        "path = \"/content/drive/MyDrive/ML/boiling_melting.tsv\"  # Update with the correct path\n",
        "\n",
        "table = []\n",
        "a_file = open(path)\n",
        "for row in a_file:\n",
        "  tokens = row.split()\n",
        "  table.append(tokens)\n",
        "\n",
        "print(table[0:5])\n"
      ],
      "metadata": {
        "id": "pfHtKFQhOf1F"
      },
      "execution_count": 2,
      "outputs": []
    },
    {
      "cell_type": "markdown",
      "source": [
        "**2a. Read the input file from GitHub**"
      ],
      "metadata": {
        "id": "0jk5-f17qeyq"
      }
    },
    {
      "cell_type": "code",
      "source": [
        "import base64\n",
        "import requests\n",
        "\n",
        "input_data=\"https://raw.githubusercontent.com/dgront/chem-ml/refs/heads/main/INPUTS/melting_temperatures/boiling_melting.tsv\"\n",
        "req = requests.get(input_data)\n",
        "table = []\n",
        "for row in req.text.splitlines():\n",
        "  tokens = row.split(\"\\t\")\n",
        "  table.append(tokens)\n",
        "\n",
        "print(table[0:5])"
      ],
      "metadata": {
        "id": "1Nw3hFpUpC7W",
        "outputId": "f3279143-7fea-4d1b-a21d-40835cdccc2c",
        "colab": {
          "base_uri": "https://localhost:8080/"
        }
      },
      "execution_count": 12,
      "outputs": [
        {
          "output_type": "stream",
          "name": "stdout",
          "text": [
            "[['(1,1&#x27;-Biphenyl)-2,5-Diol, Diacetate', 'C16H14O4', '', '68'], ['(1,1&#x27;-Biphenyl)-4,4&#x27;-Dicarbonitrile', 'C14H8N2', '', '238'], ['(1,1&#x27;-Biphenyl)-4-Ol, 3-Amino-', 'C12H11NO', '', '198-202'], ['(1,2-Dibromoethyl)benzene', 'C8H8Br2', '133', '75'], ['(1,4-Diphenyl)-1,3-Butadiene', 'C16H14', '350', '152']]\n"
          ]
        }
      ]
    },
    {
      "cell_type": "markdown",
      "source": [
        "**3. Define a function that will turn formula into input deatures**"
      ],
      "metadata": {
        "id": "-3YGUSCs6f7I"
      }
    },
    {
      "cell_type": "code",
      "source": [
        "import re\n",
        "\n",
        "def parse_formula(formula: str) -> dict:\n",
        "    \"\"\"\n",
        "    Parse a chemical formula and return a dictionary mapping each element\n",
        "    to its total count.\n",
        "\n",
        "    Args:\n",
        "        formula (str): A string representing a chemical formula (e.g., \"C8H6BrN\").\n",
        "\n",
        "    Returns:\n",
        "        dict: A dictionary where keys are element symbols and values are their counts.\n",
        "              For example, \"C8H6BrN\" yields {\"C\": 8, \"H\": 6, \"Br\": 1, \"N\": 1}.\n",
        "    \"\"\"\n",
        "    # The regex matches an element symbol: one uppercase letter optionally followed by a lowercase letter,\n",
        "    # and an optional count (a sequence of digits).\n",
        "    pattern = r'([A-Z][a-z]?)(\\d*)'\n",
        "    matches = re.findall(pattern, formula)\n",
        "\n",
        "    counts = {}\n",
        "    for element, count_str in matches:\n",
        "        # Default to 1 if no explicit count is provided.\n",
        "        count = int(count_str) if count_str else 1\n",
        "        counts[element] = counts.get(element, 0) + count\n",
        "\n",
        "    return counts\n",
        "\n",
        "atom_type_order = ['C', 'O', 'N', 'H', 'S', 'P', 'F', 'Cl', 'Br', 'I']\n",
        "\n",
        "atomic_masses = {\n",
        "    \"H\": 1.01, \"Li\": 6.94, \"Be\": 9.01, \"B\": 10.81, \"C\": 12.01, \"N\": 14.01, \"O\": 16.00, \"F\": 18.99, \"Na\": 22.99, \"Mg\": 24.31,\n",
        "    \"Al\": 26.98, \"Si\": 28.09, \"P\": 30.97, \"S\": 32.07, \"Cl\": 35.45, \"K\": 39.10, \"Ca\": 40.08, \"Sc\": 44.96, \"Ti\": 47.87, \"V\": 50.94,\n",
        "    \"Cr\": 52.00, \"Mn\": 54.94, \"Fe\": 55.85, \"Co\": 58.93, \"Ni\": 58.69, \"Cu\": 63.55, \"Zn\": 65.38, \"Ga\": 69.72, \"Ge\": 72.63, \"As\": 74.92,\n",
        "    \"Se\": 78.97, \"Br\": 79.90, \"Rb\": 85.47, \"Sr\": 87.62, \"Y\": 88.91, \"Zr\": 91.22, \"Nb\": 92.91, \"Mo\": 95.95, \"Tc\": 98.00, \"Ru\": 101.07,\n",
        "    \"Rh\": 102.91, \"Pd\": 106.42, \"Ag\": 107.87, \"Cd\": 112.41, \"In\": 114.82, \"Sn\": 118.71, \"Sb\": 121.76, \"Te\": 127.60, \"I\": 126.90,\n",
        "    \"Cs\": 132.91, \"Ba\": 137.33, \"Hf\": 178.49, \"Ta\": 180.95, \"W\": 183.84, \"Re\": 186.21, \"Os\": 190.23, \"Ir\": 192.22, \"Pt\": 195.08,\n",
        "    \"Au\": 196.97, \"Hg\": 200.59, \"Tl\": 204.38, \"Pb\": 207.20, \"Bi\": 208.98\n",
        "}\n",
        "\n",
        "def features_from_formula(formula: str):\n",
        "  features = []\n",
        "  atom_counts = parse_formula(formula)\n",
        "  for atom in atom_type_order:\n",
        "    features.append(atom_counts.get(atom, 0))\n",
        "  mass = 0.0\n",
        "  for (atom,count) in atom_counts.items():\n",
        "    mass += atomic_masses[atom]*count\n",
        "  features.append(mass)\n",
        "\n",
        "  return features\n"
      ],
      "metadata": {
        "id": "FR_d-HPQ6vOz"
      },
      "execution_count": 4,
      "outputs": []
    },
    {
      "cell_type": "markdown",
      "source": [
        " **4. Convert the input file content to actual input for training**"
      ],
      "metadata": {
        "id": "qFyD61BQKYdt"
      }
    },
    {
      "cell_type": "code",
      "source": [
        "features = []   # input features\n",
        "labels = []     # expected labels: table[i][2] is boiling, table[i][3] is melting temperature\n",
        "for row in table[0:]:\n",
        "  try:\n",
        "    v = float(row[3])\n",
        "    labels.append([v])\n",
        "    features.append(features_from_formula(row[1]))\n",
        "  except:\n",
        "    pass\n",
        "\n",
        "print(features[0:5])\n",
        "print(labels[0:5])"
      ],
      "metadata": {
        "colab": {
          "base_uri": "https://localhost:8080/"
        },
        "id": "ixddjpXKKaGs",
        "outputId": "d8cf4199-f1ca-44a8-c7ca-bcb863488526"
      },
      "execution_count": 21,
      "outputs": [
        {
          "output_type": "stream",
          "name": "stdout",
          "text": [
            "[[16, 4, 0, 14, 0, 0, 0, 0, 0, 0, 270.3], [14, 0, 2, 8, 0, 0, 0, 0, 0, 0, 204.24], [8, 0, 0, 8, 0, 0, 0, 0, 2, 0, 263.96000000000004], [16, 0, 0, 14, 0, 0, 0, 0, 0, 0, 206.3], [10, 1, 0, 16, 0, 0, 0, 0, 0, 0, 152.26]]\n",
            "[[68.0], [238.0], [75.0], [152.0], [5.0]]\n"
          ]
        }
      ]
    },
    {
      "cell_type": "markdown",
      "source": [
        "**Import tensorflow libraries**"
      ],
      "metadata": {
        "id": "VO2HDpFnMmBO"
      }
    },
    {
      "cell_type": "code",
      "source": [
        "import tensorflow as tf\n",
        "from tensorflow import keras\n",
        "from tensorflow.keras import layers\n",
        "import numpy as np"
      ],
      "metadata": {
        "id": "Di_VuEgAMwDZ"
      },
      "execution_count": 19,
      "outputs": []
    },
    {
      "cell_type": "markdown",
      "source": [
        " **Convert from Python arrays to tensorflow tensors**"
      ],
      "metadata": {
        "id": "PZ7YxUEOMfgd"
      }
    },
    {
      "cell_type": "code",
      "source": [
        "X = tf.convert_to_tensor(features)\n",
        "Y = tf.convert_to_tensor(labels)\n",
        "print(X.shape)\n",
        "print(Y.shape)\n"
      ],
      "metadata": {
        "colab": {
          "base_uri": "https://localhost:8080/"
        },
        "id": "4BOq5EFILE8O",
        "outputId": "59d39c90-9180-4e4c-f315-40d9262975f6"
      },
      "execution_count": 22,
      "outputs": [
        {
          "output_type": "stream",
          "name": "stdout",
          "text": [
            "(9327, 11)\n",
            "(9327, 1)\n"
          ]
        }
      ]
    },
    {
      "cell_type": "markdown",
      "source": [
        "# Build and train the model"
      ],
      "metadata": {
        "id": "3HrN3I5yNDSz"
      }
    },
    {
      "cell_type": "markdown",
      "source": [
        "**Buitd the mode i.e. the neural network**"
      ],
      "metadata": {
        "id": "xac7elASM-XQ"
      }
    },
    {
      "cell_type": "code",
      "source": [
        "N_INPUTS = len(features[0])\n",
        "model = keras.Sequential([\n",
        "        layers.Dense(N_INPUTS, activation='relu'),  # First hidden layer with 4 neurons\n",
        "    layers.Dense(20, activation='relu'),  # Second hidden layer with 20 neurons\n",
        "    layers.Dense(20, activation='relu'),  # Third hidden layer with 20 neurons\n",
        "#    layers.Dense(20, activation='relu'),  # 4th hidden layer with 20 neurons (added as an example that it makes the results worse!)\n",
        "    layers.Dense(1, activation='linear')  # Output layer for regression\n",
        "])\n",
        "model.compile(optimizer='adam', loss='mse', metrics=['mae'])"
      ],
      "metadata": {
        "collapsed": true,
        "id": "meJF2MOwKUMU"
      },
      "execution_count": 33,
      "outputs": []
    },
    {
      "cell_type": "markdown",
      "source": [
        "**Train the model**"
      ],
      "metadata": {
        "id": "VrxHP01pNaVc"
      }
    },
    {
      "cell_type": "code",
      "source": [
        "#history = model.fit(X, Y, epochs=20, batch_size=100, validation_data=(X, Y))\n",
        "history = model.fit(X, Y, epochs=100, batch_size=32, validation_split=0.3)"
      ],
      "metadata": {
        "colab": {
          "base_uri": "https://localhost:8080/"
        },
        "id": "wbH6KAQBNeDx",
        "outputId": "90a373a7-aa0e-4603-98bf-43defa30ffa8",
        "collapsed": true
      },
      "execution_count": 34,
      "outputs": [
        {
          "output_type": "stream",
          "name": "stdout",
          "text": [
            "Epoch 1/100\n",
            "\u001b[1m204/204\u001b[0m \u001b[32m━━━━━━━━━━━━━━━━━━━━\u001b[0m\u001b[37m\u001b[0m \u001b[1m3s\u001b[0m 7ms/step - loss: 9789.8154 - mae: 72.5949 - val_loss: 16138.9141 - val_mae: 78.4049\n",
            "Epoch 2/100\n",
            "\u001b[1m204/204\u001b[0m \u001b[32m━━━━━━━━━━━━━━━━━━━━\u001b[0m\u001b[37m\u001b[0m \u001b[1m1s\u001b[0m 5ms/step - loss: 9580.1475 - mae: 71.7459 - val_loss: 15584.1514 - val_mae: 75.5597\n",
            "Epoch 3/100\n",
            "\u001b[1m204/204\u001b[0m \u001b[32m━━━━━━━━━━━━━━━━━━━━\u001b[0m\u001b[37m\u001b[0m \u001b[1m1s\u001b[0m 3ms/step - loss: 9937.4336 - mae: 69.2893 - val_loss: 15197.8848 - val_mae: 73.5046\n",
            "Epoch 4/100\n",
            "\u001b[1m204/204\u001b[0m \u001b[32m━━━━━━━━━━━━━━━━━━━━\u001b[0m\u001b[37m\u001b[0m \u001b[1m1s\u001b[0m 3ms/step - loss: 8687.8994 - mae: 66.5108 - val_loss: 14648.7686 - val_mae: 70.8556\n",
            "Epoch 5/100\n",
            "\u001b[1m204/204\u001b[0m \u001b[32m━━━━━━━━━━━━━━━━━━━━\u001b[0m\u001b[37m\u001b[0m \u001b[1m1s\u001b[0m 4ms/step - loss: 9410.8066 - mae: 63.5602 - val_loss: 14305.5234 - val_mae: 69.1232\n",
            "Epoch 6/100\n",
            "\u001b[1m204/204\u001b[0m \u001b[32m━━━━━━━━━━━━━━━━━━━━\u001b[0m\u001b[37m\u001b[0m \u001b[1m1s\u001b[0m 4ms/step - loss: 7565.2500 - mae: 63.1005 - val_loss: 14184.7129 - val_mae: 67.9303\n",
            "Epoch 7/100\n",
            "\u001b[1m204/204\u001b[0m \u001b[32m━━━━━━━━━━━━━━━━━━━━\u001b[0m\u001b[37m\u001b[0m \u001b[1m1s\u001b[0m 4ms/step - loss: 7894.1938 - mae: 61.8600 - val_loss: 14207.6738 - val_mae: 67.9289\n",
            "Epoch 8/100\n",
            "\u001b[1m204/204\u001b[0m \u001b[32m━━━━━━━━━━━━━━━━━━━━\u001b[0m\u001b[37m\u001b[0m \u001b[1m1s\u001b[0m 4ms/step - loss: 7776.4424 - mae: 62.4288 - val_loss: 14343.0908 - val_mae: 67.8156\n",
            "Epoch 9/100\n",
            "\u001b[1m204/204\u001b[0m \u001b[32m━━━━━━━━━━━━━━━━━━━━\u001b[0m\u001b[37m\u001b[0m \u001b[1m1s\u001b[0m 4ms/step - loss: 7340.7988 - mae: 60.6551 - val_loss: 14235.8740 - val_mae: 67.9858\n",
            "Epoch 10/100\n",
            "\u001b[1m204/204\u001b[0m \u001b[32m━━━━━━━━━━━━━━━━━━━━\u001b[0m\u001b[37m\u001b[0m \u001b[1m1s\u001b[0m 3ms/step - loss: 9468.9834 - mae: 63.2239 - val_loss: 14293.2764 - val_mae: 68.3956\n",
            "Epoch 11/100\n",
            "\u001b[1m204/204\u001b[0m \u001b[32m━━━━━━━━━━━━━━━━━━━━\u001b[0m\u001b[37m\u001b[0m \u001b[1m1s\u001b[0m 4ms/step - loss: 8696.0127 - mae: 61.1180 - val_loss: 14218.9727 - val_mae: 67.7072\n",
            "Epoch 12/100\n",
            "\u001b[1m204/204\u001b[0m \u001b[32m━━━━━━━━━━━━━━━━━━━━\u001b[0m\u001b[37m\u001b[0m \u001b[1m2s\u001b[0m 5ms/step - loss: 8680.9932 - mae: 61.8018 - val_loss: 14260.8984 - val_mae: 67.9124\n",
            "Epoch 13/100\n",
            "\u001b[1m204/204\u001b[0m \u001b[32m━━━━━━━━━━━━━━━━━━━━\u001b[0m\u001b[37m\u001b[0m \u001b[1m1s\u001b[0m 5ms/step - loss: 6974.1626 - mae: 60.5760 - val_loss: 14226.4980 - val_mae: 67.4074\n",
            "Epoch 14/100\n",
            "\u001b[1m204/204\u001b[0m \u001b[32m━━━━━━━━━━━━━━━━━━━━\u001b[0m\u001b[37m\u001b[0m \u001b[1m1s\u001b[0m 4ms/step - loss: 7606.7651 - mae: 61.5461 - val_loss: 14492.8135 - val_mae: 69.5970\n",
            "Epoch 15/100\n",
            "\u001b[1m204/204\u001b[0m \u001b[32m━━━━━━━━━━━━━━━━━━━━\u001b[0m\u001b[37m\u001b[0m \u001b[1m1s\u001b[0m 4ms/step - loss: 7435.7529 - mae: 61.3435 - val_loss: 14242.8184 - val_mae: 67.3426\n",
            "Epoch 16/100\n",
            "\u001b[1m204/204\u001b[0m \u001b[32m━━━━━━━━━━━━━━━━━━━━\u001b[0m\u001b[37m\u001b[0m \u001b[1m1s\u001b[0m 3ms/step - loss: 7269.9160 - mae: 60.6591 - val_loss: 14485.2480 - val_mae: 69.3121\n",
            "Epoch 17/100\n",
            "\u001b[1m204/204\u001b[0m \u001b[32m━━━━━━━━━━━━━━━━━━━━\u001b[0m\u001b[37m\u001b[0m \u001b[1m1s\u001b[0m 4ms/step - loss: 7452.3940 - mae: 60.8419 - val_loss: 14229.3994 - val_mae: 67.4073\n",
            "Epoch 18/100\n",
            "\u001b[1m204/204\u001b[0m \u001b[32m━━━━━━━━━━━━━━━━━━━━\u001b[0m\u001b[37m\u001b[0m \u001b[1m1s\u001b[0m 4ms/step - loss: 7734.5420 - mae: 60.8666 - val_loss: 14228.7500 - val_mae: 67.6398\n",
            "Epoch 19/100\n",
            "\u001b[1m204/204\u001b[0m \u001b[32m━━━━━━━━━━━━━━━━━━━━\u001b[0m\u001b[37m\u001b[0m \u001b[1m1s\u001b[0m 4ms/step - loss: 8470.7588 - mae: 61.0663 - val_loss: 14249.2305 - val_mae: 67.6822\n",
            "Epoch 20/100\n",
            "\u001b[1m204/204\u001b[0m \u001b[32m━━━━━━━━━━━━━━━━━━━━\u001b[0m\u001b[37m\u001b[0m \u001b[1m1s\u001b[0m 4ms/step - loss: 7539.6167 - mae: 60.4933 - val_loss: 14242.8223 - val_mae: 67.4498\n",
            "Epoch 21/100\n",
            "\u001b[1m204/204\u001b[0m \u001b[32m━━━━━━━━━━━━━━━━━━━━\u001b[0m\u001b[37m\u001b[0m \u001b[1m1s\u001b[0m 4ms/step - loss: 7560.2607 - mae: 61.6280 - val_loss: 14324.0225 - val_mae: 68.2245\n",
            "Epoch 22/100\n",
            "\u001b[1m204/204\u001b[0m \u001b[32m━━━━━━━━━━━━━━━━━━━━\u001b[0m\u001b[37m\u001b[0m \u001b[1m1s\u001b[0m 3ms/step - loss: 9467.5215 - mae: 61.9750 - val_loss: 14338.2148 - val_mae: 67.4396\n",
            "Epoch 23/100\n",
            "\u001b[1m204/204\u001b[0m \u001b[32m━━━━━━━━━━━━━━━━━━━━\u001b[0m\u001b[37m\u001b[0m \u001b[1m1s\u001b[0m 4ms/step - loss: 7972.4771 - mae: 59.7311 - val_loss: 14246.4707 - val_mae: 67.7551\n",
            "Epoch 24/100\n",
            "\u001b[1m204/204\u001b[0m \u001b[32m━━━━━━━━━━━━━━━━━━━━\u001b[0m\u001b[37m\u001b[0m \u001b[1m2s\u001b[0m 5ms/step - loss: 7798.1719 - mae: 61.0465 - val_loss: 14276.8115 - val_mae: 67.3008\n",
            "Epoch 25/100\n",
            "\u001b[1m204/204\u001b[0m \u001b[32m━━━━━━━━━━━━━━━━━━━━\u001b[0m\u001b[37m\u001b[0m \u001b[1m1s\u001b[0m 5ms/step - loss: 7104.0938 - mae: 59.8936 - val_loss: 14217.9648 - val_mae: 67.4846\n",
            "Epoch 26/100\n",
            "\u001b[1m204/204\u001b[0m \u001b[32m━━━━━━━━━━━━━━━━━━━━\u001b[0m\u001b[37m\u001b[0m \u001b[1m1s\u001b[0m 3ms/step - loss: 7642.4097 - mae: 59.9717 - val_loss: 14409.8965 - val_mae: 67.6674\n",
            "Epoch 27/100\n",
            "\u001b[1m204/204\u001b[0m \u001b[32m━━━━━━━━━━━━━━━━━━━━\u001b[0m\u001b[37m\u001b[0m \u001b[1m1s\u001b[0m 3ms/step - loss: 7910.7402 - mae: 61.0252 - val_loss: 14197.5605 - val_mae: 67.3719\n",
            "Epoch 28/100\n",
            "\u001b[1m204/204\u001b[0m \u001b[32m━━━━━━━━━━━━━━━━━━━━\u001b[0m\u001b[37m\u001b[0m \u001b[1m1s\u001b[0m 4ms/step - loss: 6737.7983 - mae: 59.6116 - val_loss: 14201.8877 - val_mae: 67.3283\n",
            "Epoch 29/100\n",
            "\u001b[1m204/204\u001b[0m \u001b[32m━━━━━━━━━━━━━━━━━━━━\u001b[0m\u001b[37m\u001b[0m \u001b[1m1s\u001b[0m 4ms/step - loss: 7300.4971 - mae: 60.5640 - val_loss: 14194.8652 - val_mae: 67.4726\n",
            "Epoch 30/100\n",
            "\u001b[1m204/204\u001b[0m \u001b[32m━━━━━━━━━━━━━━━━━━━━\u001b[0m\u001b[37m\u001b[0m \u001b[1m1s\u001b[0m 4ms/step - loss: 8273.5732 - mae: 61.7730 - val_loss: 14228.3057 - val_mae: 67.2121\n",
            "Epoch 31/100\n",
            "\u001b[1m204/204\u001b[0m \u001b[32m━━━━━━━━━━━━━━━━━━━━\u001b[0m\u001b[37m\u001b[0m \u001b[1m1s\u001b[0m 4ms/step - loss: 7402.3794 - mae: 60.1596 - val_loss: 14269.8408 - val_mae: 67.9664\n",
            "Epoch 32/100\n",
            "\u001b[1m204/204\u001b[0m \u001b[32m━━━━━━━━━━━━━━━━━━━━\u001b[0m\u001b[37m\u001b[0m \u001b[1m1s\u001b[0m 3ms/step - loss: 7742.0459 - mae: 60.7798 - val_loss: 14234.5527 - val_mae: 67.2113\n",
            "Epoch 33/100\n",
            "\u001b[1m204/204\u001b[0m \u001b[32m━━━━━━━━━━━━━━━━━━━━\u001b[0m\u001b[37m\u001b[0m \u001b[1m1s\u001b[0m 3ms/step - loss: 9197.3506 - mae: 61.5706 - val_loss: 14208.9307 - val_mae: 67.4337\n",
            "Epoch 34/100\n",
            "\u001b[1m204/204\u001b[0m \u001b[32m━━━━━━━━━━━━━━━━━━━━\u001b[0m\u001b[37m\u001b[0m \u001b[1m1s\u001b[0m 4ms/step - loss: 7477.4692 - mae: 61.5739 - val_loss: 14211.3984 - val_mae: 67.5574\n",
            "Epoch 35/100\n",
            "\u001b[1m204/204\u001b[0m \u001b[32m━━━━━━━━━━━━━━━━━━━━\u001b[0m\u001b[37m\u001b[0m \u001b[1m1s\u001b[0m 4ms/step - loss: 6681.2910 - mae: 59.8914 - val_loss: 14231.3525 - val_mae: 67.1861\n",
            "Epoch 36/100\n",
            "\u001b[1m204/204\u001b[0m \u001b[32m━━━━━━━━━━━━━━━━━━━━\u001b[0m\u001b[37m\u001b[0m \u001b[1m2s\u001b[0m 5ms/step - loss: 7368.5635 - mae: 60.2636 - val_loss: 14200.6289 - val_mae: 67.1561\n",
            "Epoch 37/100\n",
            "\u001b[1m204/204\u001b[0m \u001b[32m━━━━━━━━━━━━━━━━━━━━\u001b[0m\u001b[37m\u001b[0m \u001b[1m1s\u001b[0m 3ms/step - loss: 7151.4780 - mae: 60.4841 - val_loss: 14429.3730 - val_mae: 69.0765\n",
            "Epoch 38/100\n",
            "\u001b[1m204/204\u001b[0m \u001b[32m━━━━━━━━━━━━━━━━━━━━\u001b[0m\u001b[37m\u001b[0m \u001b[1m1s\u001b[0m 3ms/step - loss: 7084.7866 - mae: 60.5528 - val_loss: 14221.1689 - val_mae: 67.7696\n",
            "Epoch 39/100\n",
            "\u001b[1m204/204\u001b[0m \u001b[32m━━━━━━━━━━━━━━━━━━━━\u001b[0m\u001b[37m\u001b[0m \u001b[1m1s\u001b[0m 3ms/step - loss: 6591.0073 - mae: 60.0392 - val_loss: 14190.4834 - val_mae: 67.1932\n",
            "Epoch 40/100\n",
            "\u001b[1m204/204\u001b[0m \u001b[32m━━━━━━━━━━━━━━━━━━━━\u001b[0m\u001b[37m\u001b[0m \u001b[1m1s\u001b[0m 3ms/step - loss: 7909.8237 - mae: 60.4792 - val_loss: 14174.0654 - val_mae: 67.2674\n",
            "Epoch 41/100\n",
            "\u001b[1m204/204\u001b[0m \u001b[32m━━━━━━━━━━━━━━━━━━━━\u001b[0m\u001b[37m\u001b[0m \u001b[1m1s\u001b[0m 4ms/step - loss: 6524.0400 - mae: 59.0502 - val_loss: 14227.6758 - val_mae: 67.9324\n",
            "Epoch 42/100\n",
            "\u001b[1m204/204\u001b[0m \u001b[32m━━━━━━━━━━━━━━━━━━━━\u001b[0m\u001b[37m\u001b[0m \u001b[1m1s\u001b[0m 3ms/step - loss: 9282.1680 - mae: 62.2464 - val_loss: 14287.0498 - val_mae: 68.2422\n",
            "Epoch 43/100\n",
            "\u001b[1m204/204\u001b[0m \u001b[32m━━━━━━━━━━━━━━━━━━━━\u001b[0m\u001b[37m\u001b[0m \u001b[1m1s\u001b[0m 4ms/step - loss: 8670.6514 - mae: 61.8281 - val_loss: 14220.1455 - val_mae: 67.2403\n",
            "Epoch 44/100\n",
            "\u001b[1m204/204\u001b[0m \u001b[32m━━━━━━━━━━━━━━━━━━━━\u001b[0m\u001b[37m\u001b[0m \u001b[1m1s\u001b[0m 3ms/step - loss: 7111.7700 - mae: 59.2979 - val_loss: 14152.8535 - val_mae: 66.9045\n",
            "Epoch 45/100\n",
            "\u001b[1m204/204\u001b[0m \u001b[32m━━━━━━━━━━━━━━━━━━━━\u001b[0m\u001b[37m\u001b[0m \u001b[1m1s\u001b[0m 4ms/step - loss: 7922.6064 - mae: 60.5418 - val_loss: 14141.1035 - val_mae: 67.2219\n",
            "Epoch 46/100\n",
            "\u001b[1m204/204\u001b[0m \u001b[32m━━━━━━━━━━━━━━━━━━━━\u001b[0m\u001b[37m\u001b[0m \u001b[1m1s\u001b[0m 4ms/step - loss: 12102.7256 - mae: 62.0395 - val_loss: 14188.7627 - val_mae: 66.9354\n",
            "Epoch 47/100\n",
            "\u001b[1m204/204\u001b[0m \u001b[32m━━━━━━━━━━━━━━━━━━━━\u001b[0m\u001b[37m\u001b[0m \u001b[1m2s\u001b[0m 5ms/step - loss: 7610.9458 - mae: 60.2114 - val_loss: 14121.6846 - val_mae: 66.9647\n",
            "Epoch 48/100\n",
            "\u001b[1m204/204\u001b[0m \u001b[32m━━━━━━━━━━━━━━━━━━━━\u001b[0m\u001b[37m\u001b[0m \u001b[1m1s\u001b[0m 5ms/step - loss: 6722.0527 - mae: 59.3530 - val_loss: 14086.5068 - val_mae: 67.0627\n",
            "Epoch 49/100\n",
            "\u001b[1m204/204\u001b[0m \u001b[32m━━━━━━━━━━━━━━━━━━━━\u001b[0m\u001b[37m\u001b[0m \u001b[1m1s\u001b[0m 4ms/step - loss: 6555.8291 - mae: 58.7690 - val_loss: 14249.9316 - val_mae: 66.9452\n",
            "Epoch 50/100\n",
            "\u001b[1m204/204\u001b[0m \u001b[32m━━━━━━━━━━━━━━━━━━━━\u001b[0m\u001b[37m\u001b[0m \u001b[1m1s\u001b[0m 4ms/step - loss: 7321.3193 - mae: 59.6784 - val_loss: 14205.1436 - val_mae: 66.8487\n",
            "Epoch 51/100\n",
            "\u001b[1m204/204\u001b[0m \u001b[32m━━━━━━━━━━━━━━━━━━━━\u001b[0m\u001b[37m\u001b[0m \u001b[1m1s\u001b[0m 4ms/step - loss: 6631.5771 - mae: 59.3674 - val_loss: 14129.6221 - val_mae: 66.8132\n",
            "Epoch 52/100\n",
            "\u001b[1m204/204\u001b[0m \u001b[32m━━━━━━━━━━━━━━━━━━━━\u001b[0m\u001b[37m\u001b[0m \u001b[1m1s\u001b[0m 3ms/step - loss: 7275.2036 - mae: 60.0883 - val_loss: 14108.4014 - val_mae: 66.5864\n",
            "Epoch 53/100\n",
            "\u001b[1m204/204\u001b[0m \u001b[32m━━━━━━━━━━━━━━━━━━━━\u001b[0m\u001b[37m\u001b[0m \u001b[1m1s\u001b[0m 3ms/step - loss: 7592.9058 - mae: 60.1164 - val_loss: 14123.2598 - val_mae: 66.4880\n",
            "Epoch 54/100\n",
            "\u001b[1m204/204\u001b[0m \u001b[32m━━━━━━━━━━━━━━━━━━━━\u001b[0m\u001b[37m\u001b[0m \u001b[1m1s\u001b[0m 4ms/step - loss: 7294.3965 - mae: 58.9277 - val_loss: 14049.2236 - val_mae: 66.4725\n",
            "Epoch 55/100\n",
            "\u001b[1m204/204\u001b[0m \u001b[32m━━━━━━━━━━━━━━━━━━━━\u001b[0m\u001b[37m\u001b[0m \u001b[1m1s\u001b[0m 4ms/step - loss: 8526.3975 - mae: 60.1482 - val_loss: 14301.1074 - val_mae: 66.7440\n",
            "Epoch 56/100\n",
            "\u001b[1m204/204\u001b[0m \u001b[32m━━━━━━━━━━━━━━━━━━━━\u001b[0m\u001b[37m\u001b[0m \u001b[1m1s\u001b[0m 3ms/step - loss: 7005.3198 - mae: 59.2799 - val_loss: 13937.8594 - val_mae: 66.4696\n",
            "Epoch 57/100\n",
            "\u001b[1m204/204\u001b[0m \u001b[32m━━━━━━━━━━━━━━━━━━━━\u001b[0m\u001b[37m\u001b[0m \u001b[1m1s\u001b[0m 4ms/step - loss: 7051.9932 - mae: 59.4898 - val_loss: 13930.7998 - val_mae: 66.0351\n",
            "Epoch 58/100\n",
            "\u001b[1m204/204\u001b[0m \u001b[32m━━━━━━━━━━━━━━━━━━━━\u001b[0m\u001b[37m\u001b[0m \u001b[1m1s\u001b[0m 4ms/step - loss: 6205.5469 - mae: 58.2396 - val_loss: 14236.1260 - val_mae: 66.4754\n",
            "Epoch 59/100\n",
            "\u001b[1m204/204\u001b[0m \u001b[32m━━━━━━━━━━━━━━━━━━━━\u001b[0m\u001b[37m\u001b[0m \u001b[1m2s\u001b[0m 5ms/step - loss: 8843.0039 - mae: 59.6573 - val_loss: 14057.5049 - val_mae: 66.0237\n",
            "Epoch 60/100\n",
            "\u001b[1m204/204\u001b[0m \u001b[32m━━━━━━━━━━━━━━━━━━━━\u001b[0m\u001b[37m\u001b[0m \u001b[1m1s\u001b[0m 4ms/step - loss: 7146.6035 - mae: 58.5183 - val_loss: 13856.5312 - val_mae: 65.8640\n",
            "Epoch 61/100\n",
            "\u001b[1m204/204\u001b[0m \u001b[32m━━━━━━━━━━━━━━━━━━━━\u001b[0m\u001b[37m\u001b[0m \u001b[1m1s\u001b[0m 3ms/step - loss: 7502.8960 - mae: 59.6333 - val_loss: 13861.3115 - val_mae: 65.6511\n",
            "Epoch 62/100\n",
            "\u001b[1m204/204\u001b[0m \u001b[32m━━━━━━━━━━━━━━━━━━━━\u001b[0m\u001b[37m\u001b[0m \u001b[1m1s\u001b[0m 3ms/step - loss: 7032.5786 - mae: 57.2709 - val_loss: 13911.8643 - val_mae: 65.6568\n",
            "Epoch 63/100\n",
            "\u001b[1m204/204\u001b[0m \u001b[32m━━━━━━━━━━━━━━━━━━━━\u001b[0m\u001b[37m\u001b[0m \u001b[1m1s\u001b[0m 4ms/step - loss: 7889.1597 - mae: 58.6988 - val_loss: 13990.4648 - val_mae: 65.5323\n",
            "Epoch 64/100\n",
            "\u001b[1m204/204\u001b[0m \u001b[32m━━━━━━━━━━━━━━━━━━━━\u001b[0m\u001b[37m\u001b[0m \u001b[1m1s\u001b[0m 4ms/step - loss: 6692.6763 - mae: 56.8438 - val_loss: 13859.2354 - val_mae: 65.7155\n",
            "Epoch 65/100\n",
            "\u001b[1m204/204\u001b[0m \u001b[32m━━━━━━━━━━━━━━━━━━━━\u001b[0m\u001b[37m\u001b[0m \u001b[1m1s\u001b[0m 3ms/step - loss: 8636.1074 - mae: 58.6646 - val_loss: 13842.2568 - val_mae: 65.5246\n",
            "Epoch 66/100\n",
            "\u001b[1m204/204\u001b[0m \u001b[32m━━━━━━━━━━━━━━━━━━━━\u001b[0m\u001b[37m\u001b[0m \u001b[1m1s\u001b[0m 4ms/step - loss: 8270.1963 - mae: 56.8180 - val_loss: 13752.6416 - val_mae: 64.8138\n",
            "Epoch 67/100\n",
            "\u001b[1m204/204\u001b[0m \u001b[32m━━━━━━━━━━━━━━━━━━━━\u001b[0m\u001b[37m\u001b[0m \u001b[1m1s\u001b[0m 3ms/step - loss: 7770.0288 - mae: 57.7879 - val_loss: 13685.1650 - val_mae: 64.7525\n",
            "Epoch 68/100\n",
            "\u001b[1m204/204\u001b[0m \u001b[32m━━━━━━━━━━━━━━━━━━━━\u001b[0m\u001b[37m\u001b[0m \u001b[1m1s\u001b[0m 3ms/step - loss: 8179.6353 - mae: 56.9754 - val_loss: 14029.6953 - val_mae: 65.1915\n",
            "Epoch 69/100\n",
            "\u001b[1m204/204\u001b[0m \u001b[32m━━━━━━━━━━━━━━━━━━━━\u001b[0m\u001b[37m\u001b[0m \u001b[1m1s\u001b[0m 4ms/step - loss: 7928.7314 - mae: 58.0088 - val_loss: 13629.3809 - val_mae: 64.3810\n",
            "Epoch 70/100\n",
            "\u001b[1m204/204\u001b[0m \u001b[32m━━━━━━━━━━━━━━━━━━━━\u001b[0m\u001b[37m\u001b[0m \u001b[1m1s\u001b[0m 5ms/step - loss: 8057.5615 - mae: 56.8906 - val_loss: 13665.0762 - val_mae: 64.8916\n",
            "Epoch 71/100\n",
            "\u001b[1m204/204\u001b[0m \u001b[32m━━━━━━━━━━━━━━━━━━━━\u001b[0m\u001b[37m\u001b[0m \u001b[1m1s\u001b[0m 6ms/step - loss: 7638.6279 - mae: 56.8034 - val_loss: 13812.9932 - val_mae: 64.2221\n",
            "Epoch 72/100\n",
            "\u001b[1m204/204\u001b[0m \u001b[32m━━━━━━━━━━━━━━━━━━━━\u001b[0m\u001b[37m\u001b[0m \u001b[1m1s\u001b[0m 4ms/step - loss: 8591.2627 - mae: 56.6532 - val_loss: 13722.0889 - val_mae: 63.8118\n",
            "Epoch 73/100\n",
            "\u001b[1m204/204\u001b[0m \u001b[32m━━━━━━━━━━━━━━━━━━━━\u001b[0m\u001b[37m\u001b[0m \u001b[1m1s\u001b[0m 3ms/step - loss: 9228.0449 - mae: 56.9863 - val_loss: 13613.1973 - val_mae: 63.9939\n",
            "Epoch 74/100\n",
            "\u001b[1m204/204\u001b[0m \u001b[32m━━━━━━━━━━━━━━━━━━━━\u001b[0m\u001b[37m\u001b[0m \u001b[1m1s\u001b[0m 4ms/step - loss: 8097.6030 - mae: 56.9504 - val_loss: 13575.2471 - val_mae: 64.3074\n",
            "Epoch 75/100\n",
            "\u001b[1m204/204\u001b[0m \u001b[32m━━━━━━━━━━━━━━━━━━━━\u001b[0m\u001b[37m\u001b[0m \u001b[1m1s\u001b[0m 3ms/step - loss: 7163.0776 - mae: 57.0825 - val_loss: 13502.1992 - val_mae: 63.2636\n",
            "Epoch 76/100\n",
            "\u001b[1m204/204\u001b[0m \u001b[32m━━━━━━━━━━━━━━━━━━━━\u001b[0m\u001b[37m\u001b[0m \u001b[1m1s\u001b[0m 3ms/step - loss: 7707.7305 - mae: 55.7105 - val_loss: 13402.1191 - val_mae: 63.3331\n",
            "Epoch 77/100\n",
            "\u001b[1m204/204\u001b[0m \u001b[32m━━━━━━━━━━━━━━━━━━━━\u001b[0m\u001b[37m\u001b[0m \u001b[1m1s\u001b[0m 3ms/step - loss: 6973.1782 - mae: 56.6589 - val_loss: 13422.8799 - val_mae: 63.0399\n",
            "Epoch 78/100\n",
            "\u001b[1m204/204\u001b[0m \u001b[32m━━━━━━━━━━━━━━━━━━━━\u001b[0m\u001b[37m\u001b[0m \u001b[1m1s\u001b[0m 4ms/step - loss: 8143.2012 - mae: 55.5343 - val_loss: 13425.4424 - val_mae: 62.4825\n",
            "Epoch 79/100\n",
            "\u001b[1m204/204\u001b[0m \u001b[32m━━━━━━━━━━━━━━━━━━━━\u001b[0m\u001b[37m\u001b[0m \u001b[1m1s\u001b[0m 3ms/step - loss: 6375.9512 - mae: 54.6348 - val_loss: 13457.5146 - val_mae: 62.6527\n",
            "Epoch 80/100\n",
            "\u001b[1m204/204\u001b[0m \u001b[32m━━━━━━━━━━━━━━━━━━━━\u001b[0m\u001b[37m\u001b[0m \u001b[1m1s\u001b[0m 4ms/step - loss: 6451.5024 - mae: 55.1447 - val_loss: 13268.7646 - val_mae: 62.6891\n",
            "Epoch 81/100\n",
            "\u001b[1m204/204\u001b[0m \u001b[32m━━━━━━━━━━━━━━━━━━━━\u001b[0m\u001b[37m\u001b[0m \u001b[1m2s\u001b[0m 5ms/step - loss: 8152.2207 - mae: 55.3080 - val_loss: 13279.9199 - val_mae: 62.8384\n",
            "Epoch 82/100\n",
            "\u001b[1m204/204\u001b[0m \u001b[32m━━━━━━━━━━━━━━━━━━━━\u001b[0m\u001b[37m\u001b[0m \u001b[1m1s\u001b[0m 4ms/step - loss: 7717.2007 - mae: 54.5620 - val_loss: 13309.3076 - val_mae: 61.8670\n",
            "Epoch 83/100\n",
            "\u001b[1m204/204\u001b[0m \u001b[32m━━━━━━━━━━━━━━━━━━━━\u001b[0m\u001b[37m\u001b[0m \u001b[1m1s\u001b[0m 4ms/step - loss: 7635.6655 - mae: 55.6328 - val_loss: 13288.1514 - val_mae: 61.9165\n",
            "Epoch 84/100\n",
            "\u001b[1m204/204\u001b[0m \u001b[32m━━━━━━━━━━━━━━━━━━━━\u001b[0m\u001b[37m\u001b[0m \u001b[1m1s\u001b[0m 3ms/step - loss: 6079.0405 - mae: 53.3229 - val_loss: 13226.4238 - val_mae: 61.6227\n",
            "Epoch 85/100\n",
            "\u001b[1m204/204\u001b[0m \u001b[32m━━━━━━━━━━━━━━━━━━━━\u001b[0m\u001b[37m\u001b[0m \u001b[1m1s\u001b[0m 3ms/step - loss: 8422.9355 - mae: 55.6798 - val_loss: 13271.5703 - val_mae: 62.3529\n",
            "Epoch 86/100\n",
            "\u001b[1m204/204\u001b[0m \u001b[32m━━━━━━━━━━━━━━━━━━━━\u001b[0m\u001b[37m\u001b[0m \u001b[1m1s\u001b[0m 4ms/step - loss: 6726.8550 - mae: 54.2783 - val_loss: 13139.7246 - val_mae: 61.3442\n",
            "Epoch 87/100\n",
            "\u001b[1m204/204\u001b[0m \u001b[32m━━━━━━━━━━━━━━━━━━━━\u001b[0m\u001b[37m\u001b[0m \u001b[1m1s\u001b[0m 3ms/step - loss: 6249.1436 - mae: 53.3364 - val_loss: 13145.0049 - val_mae: 61.2397\n",
            "Epoch 88/100\n",
            "\u001b[1m204/204\u001b[0m \u001b[32m━━━━━━━━━━━━━━━━━━━━\u001b[0m\u001b[37m\u001b[0m \u001b[1m1s\u001b[0m 4ms/step - loss: 8480.3496 - mae: 55.1228 - val_loss: 13082.6377 - val_mae: 61.0995\n",
            "Epoch 89/100\n",
            "\u001b[1m204/204\u001b[0m \u001b[32m━━━━━━━━━━━━━━━━━━━━\u001b[0m\u001b[37m\u001b[0m \u001b[1m1s\u001b[0m 3ms/step - loss: 6343.3413 - mae: 53.2216 - val_loss: 13190.0420 - val_mae: 61.6593\n",
            "Epoch 90/100\n",
            "\u001b[1m204/204\u001b[0m \u001b[32m━━━━━━━━━━━━━━━━━━━━\u001b[0m\u001b[37m\u001b[0m \u001b[1m1s\u001b[0m 3ms/step - loss: 6102.7876 - mae: 52.2141 - val_loss: 13027.9814 - val_mae: 60.9593\n",
            "Epoch 91/100\n",
            "\u001b[1m204/204\u001b[0m \u001b[32m━━━━━━━━━━━━━━━━━━━━\u001b[0m\u001b[37m\u001b[0m \u001b[1m2s\u001b[0m 5ms/step - loss: 8316.4756 - mae: 55.0583 - val_loss: 13108.7490 - val_mae: 61.8123\n",
            "Epoch 92/100\n",
            "\u001b[1m204/204\u001b[0m \u001b[32m━━━━━━━━━━━━━━━━━━━━\u001b[0m\u001b[37m\u001b[0m \u001b[1m1s\u001b[0m 5ms/step - loss: 6851.9277 - mae: 53.6301 - val_loss: 13040.1445 - val_mae: 60.6841\n",
            "Epoch 93/100\n",
            "\u001b[1m204/204\u001b[0m \u001b[32m━━━━━━━━━━━━━━━━━━━━\u001b[0m\u001b[37m\u001b[0m \u001b[1m1s\u001b[0m 3ms/step - loss: 9109.3994 - mae: 54.8743 - val_loss: 12974.6250 - val_mae: 61.3466\n",
            "Epoch 94/100\n",
            "\u001b[1m204/204\u001b[0m \u001b[32m━━━━━━━━━━━━━━━━━━━━\u001b[0m\u001b[37m\u001b[0m \u001b[1m1s\u001b[0m 4ms/step - loss: 7266.1680 - mae: 53.1133 - val_loss: 12946.9697 - val_mae: 60.5313\n",
            "Epoch 95/100\n",
            "\u001b[1m204/204\u001b[0m \u001b[32m━━━━━━━━━━━━━━━━━━━━\u001b[0m\u001b[37m\u001b[0m \u001b[1m1s\u001b[0m 4ms/step - loss: 7125.0859 - mae: 54.0998 - val_loss: 12891.1113 - val_mae: 60.4533\n",
            "Epoch 96/100\n",
            "\u001b[1m204/204\u001b[0m \u001b[32m━━━━━━━━━━━━━━━━━━━━\u001b[0m\u001b[37m\u001b[0m \u001b[1m1s\u001b[0m 3ms/step - loss: 7316.9365 - mae: 53.4141 - val_loss: 12810.7256 - val_mae: 60.2917\n",
            "Epoch 97/100\n",
            "\u001b[1m204/204\u001b[0m \u001b[32m━━━━━━━━━━━━━━━━━━━━\u001b[0m\u001b[37m\u001b[0m \u001b[1m1s\u001b[0m 4ms/step - loss: 5234.0977 - mae: 50.9606 - val_loss: 12772.9033 - val_mae: 60.2380\n",
            "Epoch 98/100\n",
            "\u001b[1m204/204\u001b[0m \u001b[32m━━━━━━━━━━━━━━━━━━━━\u001b[0m\u001b[37m\u001b[0m \u001b[1m1s\u001b[0m 4ms/step - loss: 5751.4854 - mae: 52.1753 - val_loss: 12742.2832 - val_mae: 60.5145\n",
            "Epoch 99/100\n",
            "\u001b[1m204/204\u001b[0m \u001b[32m━━━━━━━━━━━━━━━━━━━━\u001b[0m\u001b[37m\u001b[0m \u001b[1m1s\u001b[0m 4ms/step - loss: 7078.3970 - mae: 53.1159 - val_loss: 12714.8877 - val_mae: 60.5238\n",
            "Epoch 100/100\n",
            "\u001b[1m204/204\u001b[0m \u001b[32m━━━━━━━━━━━━━━━━━━━━\u001b[0m\u001b[37m\u001b[0m \u001b[1m1s\u001b[0m 4ms/step - loss: 6290.1279 - mae: 51.5465 - val_loss: 12780.2559 - val_mae: 62.1573\n"
          ]
        }
      ]
    },
    {
      "cell_type": "markdown",
      "source": [
        "**Plot training loss**"
      ],
      "metadata": {
        "id": "F_pPuoiWNQAT"
      }
    },
    {
      "cell_type": "code",
      "source": [
        "import matplotlib.pyplot as plt\n",
        "plt.plot(history.history['loss'], label='Training Loss', marker='o')\n",
        "plt.plot(history.history['val_loss'], label='Validation Loss', marker='o')\n",
        "plt.xlabel('Epoch')\n",
        "plt.legend()\n",
        "plt.ylabel('Loss')\n",
        "plt.show()"
      ],
      "metadata": {
        "colab": {
          "base_uri": "https://localhost:8080/",
          "height": 449
        },
        "id": "3oY_4E0RMoLj",
        "outputId": "ec19be4c-7801-405f-d604-99fe96fae56d"
      },
      "execution_count": 36,
      "outputs": [
        {
          "output_type": "display_data",
          "data": {
            "text/plain": [
              "<Figure size 640x480 with 1 Axes>"
            ],
            "image/png": "[encoded data removed]"
          },
          "metadata": {}
        }
      ]
    },
    {
      "cell_type": "markdown",
      "source": [
        "**Print mean absolute error (MAE) during training**"
      ],
      "metadata": {
        "id": "m1BTCKAUcJQ6"
      }
    },
    {
      "cell_type": "code",
      "source": [
        "print(history.history.keys())\n",
        "plt.plot(history.history['mae'], label='Training MAE', marker='o')\n",
        "plt.plot(history.history['val_mae'], label='Validation MAE', marker='o')\n",
        "plt.xlabel('Epoch')\n",
        "plt.legend()\n",
        "plt.ylabel('MAE')\n",
        "plt.show()"
      ],
      "metadata": {
        "colab": {
          "base_uri": "https://localhost:8080/",
          "height": 466
        },
        "id": "pSJISDcVcQKv",
        "outputId": "fa815356-cdf9-4ba8-a7e7-01cd08939776"
      },
      "execution_count": 37,
      "outputs": [
        {
          "output_type": "stream",
          "name": "stdout",
          "text": [
            "dict_keys(['loss', 'mae', 'val_loss', 'val_mae'])\n"
          ]
        },
        {
          "output_type": "display_data",
          "data": {
            "text/plain": [
              "<Figure size 640x480 with 1 Axes>"
            ],
            "image/png": "[encoded data removed]"
          },
          "metadata": {}
        }
      ]
    },
    {
      "cell_type": "code",
      "source": [
        "ethanol = features_from_formula(\"C2H5OH\")\n",
        "ethanol = tf.convert_to_tensor(ethanol)\n",
        "ethanol = tf.reshape(ethanol, [1, N_INPUTS])\n",
        "model.predict([ethanol])"
      ],
      "metadata": {
        "colab": {
          "base_uri": "https://localhost:8080/"
        },
        "id": "vgHIDu2DNWLG",
        "outputId": "b24d867e-af09-4228-b48f-6c9f256fbf56"
      },
      "execution_count": 38,
      "outputs": [
        {
          "output_type": "stream",
          "name": "stdout",
          "text": [
            "\u001b[1m1/1\u001b[0m \u001b[32m━━━━━━━━━━━━━━━━━━━━\u001b[0m\u001b[37m\u001b[0m \u001b[1m0s\u001b[0m 179ms/step\n"
          ]
        },
        {
          "output_type": "stream",
          "name": "stderr",
          "text": [
            "/usr/local/lib/python3.11/dist-packages/keras/src/models/functional.py:237: UserWarning: The structure of `inputs` doesn't match the expected structure.\n",
            "Expected: keras_tensor_10\n",
            "Received: inputs=('Tensor(shape=(1, 11))',)\n",
            "  warnings.warn(msg)\n"
          ]
        },
        {
          "output_type": "execute_result",
          "data": {
            "text/plain": [
              "array([[-78.271]], dtype=float32)"
            ]
          },
          "metadata": {},
          "execution_count": 38
        }
      ]
    }
  ]
}