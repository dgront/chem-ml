{
  "nbformat": 4,
  "nbformat_minor": 0,
  "metadata": {
    "colab": {
      "provenance": [],
      "toc_visible": true
    },
    "kernelspec": {
      "name": "python3",
      "display_name": "Python 3"
    },
    "language_info": {
      "name": "python"
    }
  },
  "cells": [
    {
      "cell_type": "markdown",
      "source": [
        "# 1. Installation"
      ],
      "metadata": {
        "id": "dQ8QlbxsWS29"
      }
    },
    {
      "cell_type": "code",
      "execution_count": 4,
      "metadata": {
        "colab": {
          "base_uri": "https://localhost:8080/"
        },
        "id": "G_vyLtRQIlve",
        "outputId": "562b49a0-e16c-4486-c116-ced70f4f1b8a"
      },
      "outputs": [
        {
          "output_type": "stream",
          "name": "stdout",
          "text": [
            "Requirement already satisfied: rdkit in /usr/local/lib/python3.11/dist-packages (2024.9.6)\n",
            "Requirement already satisfied: numpy in /usr/local/lib/python3.11/dist-packages (from rdkit) (1.26.4)\n",
            "Requirement already satisfied: Pillow in /usr/local/lib/python3.11/dist-packages (from rdkit) (11.1.0)\n"
          ]
        }
      ],
      "source": [
        "!pip install rdkit\n",
        "import rdkit"
      ]
    },
    {
      "cell_type": "markdown",
      "source": [
        "# 2. SMILES, molecules, their atoms and bonds"
      ],
      "metadata": {
        "id": "B7OsMQuaWVy1"
      }
    },
    {
      "cell_type": "markdown",
      "source": [
        "**2.1 How to create a molecule from a SMILES**"
      ],
      "metadata": {
        "id": "tXKY_tqJQ6bt"
      }
    },
    {
      "cell_type": "code",
      "source": [
        "from rdkit import Chem\n",
        "m = Chem.MolFromSmiles('CNC(CC=O)CCC')\n",
        "m"
      ],
      "metadata": {
        "colab": {
          "base_uri": "https://localhost:8080/",
          "height": 167
        },
        "id": "TsiTBey-L1QR",
        "outputId": "6ad789cb-5cec-4115-9bdc-ef15aa9fb6fc"
      },
      "execution_count": 54,
      "outputs": [
        {
          "output_type": "execute_result",
          "data": {
            "text/plain": [
              "<rdkit.Chem.rdchem.Mol at 0x7de33b038270>"
            ],
            "image/png": "[encoded data removed]"
          },
          "metadata": {},
          "execution_count": 54
        }
      ]
    },
    {
      "cell_type": "markdown",
      "source": [
        "**2.2 Back to chemical formula from smiles**"
      ],
      "metadata": {
        "id": "GgRKI1Y6ZiDe"
      }
    },
    {
      "cell_type": "code",
      "source": [
        "from rdkit.Chem.rdMolDescriptors import CalcMolFormula\n",
        "print(CalcMolFormula(m))"
      ],
      "metadata": {
        "colab": {
          "base_uri": "https://localhost:8080/"
        },
        "id": "2xQKP9CCZqZt",
        "outputId": "b9be1993-f3c3-40eb-871c-d6f9f6135a2d"
      },
      "execution_count": 34,
      "outputs": [
        {
          "output_type": "stream",
          "name": "stdout",
          "text": [
            "C7H15NO\n"
          ]
        }
      ]
    },
    {
      "cell_type": "markdown",
      "source": [
        "2.3 Add hydrogen atoms"
      ],
      "metadata": {
        "id": "o-VuT5mUfcGY"
      }
    },
    {
      "cell_type": "code",
      "source": [
        "from rdkit.Chem.rdmolops import AddHs\n",
        "mH = AddHs(m)\n",
        "# run both versions and see the difference\n",
        "m\n",
        "#mH"
      ],
      "metadata": {
        "colab": {
          "base_uri": "https://localhost:8080/",
          "height": 167
        },
        "id": "OBrjcSzpfgDm",
        "outputId": "53bc3dd7-2d58-4527-cc77-3261953f6a10"
      },
      "execution_count": 65,
      "outputs": [
        {
          "output_type": "execute_result",
          "data": {
            "text/plain": [
              "<rdkit.Chem.rdchem.Mol at 0x7de33b038270>"
            ],
            "image/png": "[encoded data removed]"
          },
          "metadata": {},
          "execution_count": 65
        }
      ]
    },
    {
      "cell_type": "markdown",
      "source": [
        "**2.3 List atoms**"
      ],
      "metadata": {
        "id": "ilqKYNq6eQf2"
      }
    },
    {
      "cell_type": "code",
      "source": [
        "for atom in m.GetAtoms():\n",
        "  print(atom.GetIdx(), atom.GetSymbol())"
      ],
      "metadata": {
        "colab": {
          "base_uri": "https://localhost:8080/"
        },
        "id": "HHrRCOlAePeD",
        "outputId": "bb535c5d-83d2-49dc-c0e5-2f36cb2db36f"
      },
      "execution_count": 66,
      "outputs": [
        {
          "output_type": "stream",
          "name": "stdout",
          "text": [
            "0 C\n",
            "1 N\n",
            "2 C\n",
            "3 C\n",
            "4 C\n",
            "5 O\n",
            "6 C\n",
            "7 C\n",
            "8 C\n"
          ]
        }
      ]
    },
    {
      "cell_type": "markdown",
      "source": [
        "**2.4 Count atoms by element type**"
      ],
      "metadata": {
        "id": "b__9iJ1Oemy1"
      }
    },
    {
      "cell_type": "code",
      "source": [
        "atom_type_order = ['C', 'O', 'N', 'H', 'S', 'P', 'F', 'Cl', 'Br', 'I']\n",
        "atom_counts = [0 for atom_type in atom_type_order]\n",
        "for atom in mH.GetAtoms():\n",
        "  element = atom.GetSymbol()\n",
        "  if element in atom_type_order:\n",
        "    atom_counts[atom_type_order.index(element)] += 1\n",
        "print(atom_counts)"
      ],
      "metadata": {
        "colab": {
          "base_uri": "https://localhost:8080/"
        },
        "id": "_gbWdbmger_W",
        "outputId": "85245a6d-a12a-4ebb-f1c8-d43e82b37d42"
      },
      "execution_count": 57,
      "outputs": [
        {
          "output_type": "stream",
          "name": "stdout",
          "text": [
            "[7, 1, 1, 15, 0, 0, 0, 0, 0, 0]\n"
          ]
        }
      ]
    },
    {
      "cell_type": "markdown",
      "source": [
        "**2.5 How to list all bonds in a molecule**"
      ],
      "metadata": {
        "id": "LitW3QHQRMwv"
      }
    },
    {
      "cell_type": "code",
      "source": [
        "for bond in m.GetBonds():\n",
        "  ai = bond.GetBeginAtom()\n",
        "  aj = bond.GetEndAtom()\n",
        "  print(ai.GetIdx(), ai.GetSymbol(), aj.GetIdx(), aj.GetSymbol(), bond.GetBondType())\n",
        ""
      ],
      "metadata": {
        "colab": {
          "base_uri": "https://localhost:8080/"
        },
        "id": "OYJ8-n7ysLHv",
        "outputId": "2d73a4cb-72ea-492a-8351-12fd584dee96"
      },
      "execution_count": 69,
      "outputs": [
        {
          "output_type": "stream",
          "name": "stdout",
          "text": [
            "0 C 1 N SINGLE\n",
            "1 N 2 C SINGLE\n",
            "2 C 3 C SINGLE\n",
            "3 C 4 C SINGLE\n",
            "4 C 5 O DOUBLE\n",
            "2 C 6 C SINGLE\n",
            "6 C 7 C SINGLE\n",
            "7 C 8 C SINGLE\n"
          ]
        }
      ]
    },
    {
      "cell_type": "markdown",
      "source": [
        "# 3. Functional groups aka Molecular fragments"
      ],
      "metadata": {
        "id": "AOtPCbphWhRS"
      }
    },
    {
      "cell_type": "markdown",
      "source": [
        "**3.2 List all functions that RDKit defines for detecting functional groups**"
      ],
      "metadata": {
        "id": "qf67ikuzQeiP"
      }
    },
    {
      "cell_type": "code",
      "source": [
        "import rdkit.Chem.Fragments\n",
        "from inspect import getmembers, isfunction\n",
        "\n",
        "# for fn in getmembers(rdkit.Chem.Fragments, isfunction):\n",
        "#   if str(fn[0]).startswith('fr_'):\n",
        "#     print(fn[0])\n",
        "# Now store these funcctions on a list\n",
        "frag_functions = [fn for fn in getmembers(rdkit.Chem.Fragments, isfunction) if str(fn[0]).startswith('fr_')]\n",
        "print(f\"found {len(frag_functions)} functions that describe molecular fragments\")\n",
        "\n",
        "#print(frag_functions)\n"
      ],
      "metadata": {
        "colab": {
          "base_uri": "https://localhost:8080/"
        },
        "collapsed": true,
        "id": "KWNt-fNOQnLg",
        "outputId": "8bd99b77-f87a-4c3a-ce6c-132fd8a31dae"
      },
      "execution_count": 33,
      "outputs": [
        {
          "output_type": "stream",
          "name": "stdout",
          "text": [
            "found 85 functions that describe molecular fragments\n"
          ]
        }
      ]
    },
    {
      "cell_type": "markdown",
      "source": [
        "**3.3. Show fragments in a molecule**"
      ],
      "metadata": {
        "id": "qKeFHt4eW2-x"
      }
    },
    {
      "cell_type": "code",
      "source": [
        "m2 = Chem.MolFromSmiles('c1ccccc1CNC(CC=O)CCC=O')\n",
        "\n",
        "for fn in frag_functions:\n",
        "  if fn[1](m2): print (fn[0], fn[1](m2))\n",
        "m2"
      ],
      "metadata": {
        "colab": {
          "base_uri": "https://localhost:8080/",
          "height": 252
        },
        "id": "MAHol2fgW807",
        "outputId": "365ba5c7-636b-4566-c3f6-7c7fcbb0ed6f"
      },
      "execution_count": 72,
      "outputs": [
        {
          "output_type": "stream",
          "name": "stdout",
          "text": [
            "fr_C_O 2\n",
            "fr_C_O_noCOO 2\n",
            "fr_NH1 1\n",
            "fr_aldehyde 2\n",
            "fr_benzene 1\n"
          ]
        },
        {
          "output_type": "execute_result",
          "data": {
            "text/plain": [
              "<rdkit.Chem.rdchem.Mol at 0x7de33b03ac00>"
            ],
            "image/png": "[encoded data removed]"
          },
          "metadata": {},
          "execution_count": 72
        }
      ]
    },
    {
      "cell_type": "markdown",
      "source": [
        "# 4. Molecular descriptors"
      ],
      "metadata": {
        "id": "gQYUtuC_bjMq"
      }
    },
    {
      "cell_type": "markdown",
      "source": [
        "**4.1 Example descriptor - molecular mass**"
      ],
      "metadata": {
        "id": "HHpJTcSjgh3r"
      }
    },
    {
      "cell_type": "code",
      "source": [
        "from rdkit.Chem import rdMolDescriptors\n",
        "print(rdMolDescriptors.CalcExactMolWt(m))\n",
        "\n",
        "# add hydrogens and see what happes\n",
        "from rdkit.Chem.rdmolops import AddHs\n",
        "m2H = AddHs(m2)\n",
        "print(rdMolDescriptors.CalcExactMolWt(m2H))\n",
        "m2H"
      ],
      "metadata": {
        "colab": {
          "base_uri": "https://localhost:8080/",
          "height": 201
        },
        "id": "r_u-uNw7ghES",
        "outputId": "83406948-5ad1-4674-a531-d27e0bc6b242"
      },
      "execution_count": 63,
      "outputs": [
        {
          "output_type": "stream",
          "name": "stdout",
          "text": [
            "129.1153641\n",
            "205.146664228\n"
          ]
        },
        {
          "output_type": "execute_result",
          "data": {
            "text/plain": [
              "<rdkit.Chem.rdchem.Mol at 0x7de33b038b30>"
            ],
            "image/png": "[encoded data removed]"
          },
          "metadata": {},
          "execution_count": 63
        }
      ]
    },
    {
      "cell_type": "markdown",
      "source": [
        "**4.2 Compute all descriptors available for a molecule**"
      ],
      "metadata": {
        "id": "MGA6XuYBs_o1"
      }
    },
    {
      "cell_type": "code",
      "source": [
        "\n",
        "from rdkit.Chem import rdMolDescriptors\n",
        "\n",
        "mol = Chem.MolFromSmiles('c1ccccc1')\n",
        "properties = rdMolDescriptors.Properties()\n",
        "for name, value in zip(properties.GetPropertyNames(), properties.ComputeProperties(mol)):\n",
        "  print(name, value)"
      ],
      "metadata": {
        "colab": {
          "base_uri": "https://localhost:8080/"
        },
        "id": "vfpdJ4kabmC1",
        "outputId": "b40fcc7b-7aa7-4f95-f478-8d5edb632da8"
      },
      "execution_count": 43,
      "outputs": [
        {
          "output_type": "stream",
          "name": "stdout",
          "text": [
            "exactmw 78.046950192\n",
            "amw 78.11399999999999\n",
            "lipinskiHBA 0.0\n",
            "lipinskiHBD 0.0\n",
            "NumRotatableBonds 0.0\n",
            "NumHBD 0.0\n",
            "NumHBA 0.0\n",
            "NumHeavyAtoms 6.0\n",
            "NumAtoms 12.0\n",
            "NumHeteroatoms 0.0\n",
            "NumAmideBonds 0.0\n",
            "FractionCSP3 0.0\n",
            "NumRings 1.0\n",
            "NumAromaticRings 1.0\n",
            "NumAliphaticRings 0.0\n",
            "NumSaturatedRings 0.0\n",
            "NumHeterocycles 0.0\n",
            "NumAromaticHeterocycles 0.0\n",
            "NumSaturatedHeterocycles 0.0\n",
            "NumAliphaticHeterocycles 0.0\n",
            "NumSpiroAtoms 0.0\n",
            "NumBridgeheadAtoms 0.0\n",
            "NumAtomStereoCenters 0.0\n",
            "NumUnspecifiedAtomStereoCenters 0.0\n",
            "labuteASA 37.43140311949697\n",
            "tpsa 0.0\n",
            "CrippenClogP 1.6866\n",
            "CrippenMR 26.441999999999993\n",
            "chi0v 3.464101615137755\n",
            "chi1v 2.0000000000000004\n",
            "chi2v 0.6666666666666671\n",
            "chi3v 0.6666666666666671\n",
            "chi4v 0.38490017945975075\n",
            "chi0n 3.464101615137755\n",
            "chi1n 2.0000000000000004\n",
            "chi2n 0.6666666666666671\n",
            "chi3n 0.6666666666666671\n",
            "chi4n 0.38490017945975075\n",
            "hallKierAlpha -0.78\n",
            "kappa1 3.4115708812260532\n",
            "kappa2 1.6057694396735218\n",
            "kappa3 0.5823992601400448\n",
            "Phi 0.9130327103921437\n"
          ]
        }
      ]
    },
    {
      "cell_type": "markdown",
      "source": [],
      "metadata": {
        "id": "eI37uqHoWtTp"
      }
    }
  ]
}