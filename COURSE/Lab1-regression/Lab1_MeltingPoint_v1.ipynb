{
  "nbformat": 4,
  "nbformat_minor": 0,
  "metadata": {
    "colab": {
      "provenance": []
    },
    "kernelspec": {
      "name": "python3",
      "display_name": "Python 3"
    },
    "language_info": {
      "name": "python"
    }
  },
  "cells": [
    {
      "cell_type": "markdown",
      "source": [
        "# Prepare input data"
      ],
      "metadata": {
        "id": "HYDuou7bK9wl"
      }
    },
    {
      "cell_type": "markdown",
      "source": [
        "**1. Connect to google drive and see if the input file is there**"
      ],
      "metadata": {
        "id": "yTweAT29Kb47"
      }
    },
    {
      "cell_type": "code",
      "execution_count": null,
      "metadata": {
        "colab": {
          "base_uri": "https://localhost:8080/"
        },
        "id": "PCy0jW7ydfW7",
        "outputId": "6968be79-a99c-4a1f-eaaf-f5baca46f872"
      },
      "outputs": [
        {
          "output_type": "stream",
          "name": "stdout",
          "text": [
            "Drive already mounted at /content/drive; to attempt to forcibly remount, call drive.mount(\"/content/drive\", force_remount=True).\n",
            "table.dat\n",
            "inputs.dat\n"
          ]
        }
      ],
      "source": [
        "# import google drive module and mount it\n",
        "from google.colab import drive\n",
        "drive.mount('/content/drive')\n",
        "\n",
        "# list the files on the path just to check if our file is actually there\n",
        "import os\n",
        "path = \"/content/drive/MyDrive/ML\" #change your_subfolder to the actual subfolder name\n",
        "for filename in os.listdir(path):\n",
        "  print(filename)"
      ]
    },
    {
      "cell_type": "markdown",
      "source": [
        "**2a. Read the input file from Google Drive**"
      ],
      "metadata": {
        "id": "v954kyOpL5ny"
      }
    },
    {
      "cell_type": "code",
      "source": [
        "# Specify the correct path to your file!!\n",
        "path = \"/content/drive/MyDrive/ML/inputs.dat\"  # Update with the correct path\n",
        "\n",
        "table = []\n",
        "a_file = open(path)\n",
        "for row in a_file:\n",
        "  tokens = row.split()\n",
        "  table.append(tokens)\n",
        "\n",
        "print(table[0:5])\n"
      ],
      "metadata": {
        "colab": {
          "base_uri": "https://localhost:8080/"
        },
        "id": "pfHtKFQhOf1F",
        "outputId": "8f0afc9d-0fbf-4eb1-a0a9-81b4df419902"
      },
      "execution_count": null,
      "outputs": [
        {
          "output_type": "stream",
          "name": "stdout",
          "text": [
            "[['16', '0', '4', '14', '*', '68'], ['14', '2', '0', '8', '*', '238'], ['12', '1', '1', '11', '*', '198-202'], ['8', '0', '0', '8', '133', '75'], ['16', '0', '0', '14', '350', '152']]\n"
          ]
        }
      ]
    },
    {
      "cell_type": "markdown",
      "source": [
        "**2a. Read the input file from GitHub**"
      ],
      "metadata": {
        "id": "0jk5-f17qeyq"
      }
    },
    {
      "cell_type": "code",
      "source": [
        "import base64\n",
        "import requests\n",
        "\n",
        "input_data=\"https://raw.githubusercontent.com/dgront/chem-ml/refs/heads/main/INPUTS/melting_temperatures/boiling_melting.tsv\"\n",
        "req = requests.get(input_data)\n",
        "table = []\n",
        "for row in req.text.splitlines():\n",
        "  tokens = row.split(\"\\t\")\n",
        "  table.append(tokens)\n",
        "\n",
        "print(table[0:5])"
      ],
      "metadata": {
        "collapsed": true,
        "id": "1Nw3hFpUpC7W",
        "outputId": "6f06a6de-4dde-45fa-9f83-b08bd01e8cb0",
        "colab": {
          "base_uri": "https://localhost:8080/"
        }
      },
      "execution_count": 9,
      "outputs": [
        {
          "output_type": "stream",
          "name": "stdout",
          "text": [
            "[['(1,1&#x27;-Biphenyl)-2,5-Diol, Diacetate', 'C16H14O4', '', '68'], ['(1,1&#x27;-Biphenyl)-4,4&#x27;-Dicarbonitrile', 'C14H8N2', '', '238'], ['(1,1&#x27;-Biphenyl)-4-Ol, 3-Amino-', 'C12H11NO', '', '198-202'], ['(1,2-Dibromoethyl)benzene', 'C8H8Br2', '133', '75'], ['(1,4-Diphenyl)-1,3-Butadiene', 'C16H14', '350', '152']]\n"
          ]
        }
      ]
    },
    {
      "cell_type": "markdown",
      "source": [
        " **Convert the file content to input for training**"
      ],
      "metadata": {
        "id": "qFyD61BQKYdt"
      }
    },
    {
      "cell_type": "code",
      "source": [
        "features = []   # input features\n",
        "labels = []     # expected labels\n",
        "for row in table:\n",
        "  try:\n",
        "    v = float(row[5])\n",
        "    labels.append([v])\n",
        "    features.append([float(row[0]), float(row[1]), float(row[2]), float(row[3])])\n",
        "  except:\n",
        "    pass\n",
        "\n",
        "print(features[0:5])\n",
        "print(labels[0:5])"
      ],
      "metadata": {
        "colab": {
          "base_uri": "https://localhost:8080/"
        },
        "id": "ixddjpXKKaGs",
        "outputId": "364d1ab1-406c-454e-852b-29087cea8e89"
      },
      "execution_count": null,
      "outputs": [
        {
          "output_type": "stream",
          "name": "stdout",
          "text": [
            "[[16.0, 0.0, 4.0, 14.0], [14.0, 2.0, 0.0, 8.0], [8.0, 0.0, 0.0, 8.0], [16.0, 0.0, 0.0, 14.0], [10.0, 0.0, 1.0, 16.0]]\n",
            "[[68.0], [238.0], [75.0], [152.0], [5.0]]\n"
          ]
        }
      ]
    },
    {
      "cell_type": "markdown",
      "source": [
        "**Import tensorflow libraries**"
      ],
      "metadata": {
        "id": "VO2HDpFnMmBO"
      }
    },
    {
      "cell_type": "code",
      "source": [
        "import tensorflow as tf\n",
        "from tensorflow import keras\n",
        "from tensorflow.keras import layers\n",
        "import numpy as np"
      ],
      "metadata": {
        "id": "Di_VuEgAMwDZ"
      },
      "execution_count": null,
      "outputs": []
    },
    {
      "cell_type": "markdown",
      "source": [
        " **Convert from Python arrays to tensorflow tensors**"
      ],
      "metadata": {
        "id": "PZ7YxUEOMfgd"
      }
    },
    {
      "cell_type": "code",
      "source": [
        "X = tf.convert_to_tensor(features)\n",
        "Y = tf.convert_to_tensor(labels)\n",
        "print(X.shape)\n",
        "print(Y.shape)\n"
      ],
      "metadata": {
        "colab": {
          "base_uri": "https://localhost:8080/"
        },
        "id": "4BOq5EFILE8O",
        "outputId": "f9a7b86c-e365-4e41-f3a4-eb04ded3ffcf"
      },
      "execution_count": null,
      "outputs": [
        {
          "output_type": "stream",
          "name": "stdout",
          "text": [
            "(9301, 4)\n",
            "(9301, 1)\n"
          ]
        }
      ]
    },
    {
      "cell_type": "markdown",
      "source": [
        "# Build and train the model"
      ],
      "metadata": {
        "id": "3HrN3I5yNDSz"
      }
    },
    {
      "cell_type": "markdown",
      "source": [
        "**Buitd the mode i.e. the neural network**"
      ],
      "metadata": {
        "id": "xac7elASM-XQ"
      }
    },
    {
      "cell_type": "code",
      "source": [
        "model = keras.Sequential([\n",
        "        layers.Dense(4, activation='relu'),  # First hidden layer with 4 neurons\n",
        "    layers.Dense(20, activation='relu'),  # Second hidden layer with 20 neurons\n",
        "    layers.Dense(20, activation='relu'),  # Third hidden layer with 20 neurons\n",
        "#    layers.Dense(20, activation='relu'),  # 4th hidden layer with 20 neurons (added as an example that it makes the results worse!)\n",
        "    layers.Dense(1, activation='linear')  # Output layer for regression\n",
        "])\n",
        "model.compile(optimizer='adam', loss='mse', metrics=['mae'])"
      ],
      "metadata": {
        "collapsed": true,
        "id": "meJF2MOwKUMU"
      },
      "execution_count": null,
      "outputs": []
    },
    {
      "cell_type": "markdown",
      "source": [
        "**Train the model**"
      ],
      "metadata": {
        "id": "VrxHP01pNaVc"
      }
    },
    {
      "cell_type": "code",
      "source": [
        "#history = model.fit(X, Y, epochs=20, batch_size=100, validation_data=(X, Y))\n",
        "history = model.fit(X, Y, epochs=50, batch_size=32, validation_split=0.3)"
      ],
      "metadata": {
        "colab": {
          "base_uri": "https://localhost:8080/"
        },
        "id": "wbH6KAQBNeDx",
        "outputId": "1962d0b9-9012-487f-a64e-01e905abf38f"
      },
      "execution_count": null,
      "outputs": [
        {
          "output_type": "stream",
          "name": "stdout",
          "text": [
            "Epoch 1/50\n",
            "\u001b[1m204/204\u001b[0m \u001b[32m━━━━━━━━━━━━━━━━━━━━\u001b[0m\u001b[37m\u001b[0m \u001b[1m0s\u001b[0m 2ms/step - loss: 8618.0605 - mae: 61.8862 - val_loss: 14588.6250 - val_mae: 68.8333\n",
            "Epoch 2/50\n",
            "\u001b[1m204/204\u001b[0m \u001b[32m━━━━━━━━━━━━━━━━━━━━\u001b[0m\u001b[37m\u001b[0m \u001b[1m0s\u001b[0m 2ms/step - loss: 6803.5068 - mae: 59.7817 - val_loss: 14515.4736 - val_mae: 68.1818\n",
            "Epoch 3/50\n",
            "\u001b[1m204/204\u001b[0m \u001b[32m━━━━━━━━━━━━━━━━━━━━\u001b[0m\u001b[37m\u001b[0m \u001b[1m1s\u001b[0m 2ms/step - loss: 6723.9263 - mae: 59.0031 - val_loss: 14515.6680 - val_mae: 68.0230\n",
            "Epoch 4/50\n",
            "\u001b[1m204/204\u001b[0m \u001b[32m━━━━━━━━━━━━━━━━━━━━\u001b[0m\u001b[37m\u001b[0m \u001b[1m0s\u001b[0m 2ms/step - loss: 6600.8193 - mae: 58.6070 - val_loss: 14567.5068 - val_mae: 68.3185\n",
            "Epoch 5/50\n",
            "\u001b[1m204/204\u001b[0m \u001b[32m━━━━━━━━━━━━━━━━━━━━\u001b[0m\u001b[37m\u001b[0m \u001b[1m1s\u001b[0m 2ms/step - loss: 7892.6807 - mae: 59.6174 - val_loss: 14464.5000 - val_mae: 67.8153\n",
            "Epoch 6/50\n",
            "\u001b[1m204/204\u001b[0m \u001b[32m━━━━━━━━━━━━━━━━━━━━\u001b[0m\u001b[37m\u001b[0m \u001b[1m1s\u001b[0m 2ms/step - loss: 10182.4424 - mae: 60.8246 - val_loss: 14423.0586 - val_mae: 67.3850\n",
            "Epoch 7/50\n",
            "\u001b[1m204/204\u001b[0m \u001b[32m━━━━━━━━━━━━━━━━━━━━\u001b[0m\u001b[37m\u001b[0m \u001b[1m0s\u001b[0m 2ms/step - loss: 7451.0806 - mae: 58.6024 - val_loss: 14497.0938 - val_mae: 68.1089\n",
            "Epoch 8/50\n",
            "\u001b[1m204/204\u001b[0m \u001b[32m━━━━━━━━━━━━━━━━━━━━\u001b[0m\u001b[37m\u001b[0m \u001b[1m1s\u001b[0m 3ms/step - loss: 9424.3311 - mae: 59.0399 - val_loss: 14346.0771 - val_mae: 67.4396\n",
            "Epoch 9/50\n",
            "\u001b[1m204/204\u001b[0m \u001b[32m━━━━━━━━━━━━━━━━━━━━\u001b[0m\u001b[37m\u001b[0m \u001b[1m1s\u001b[0m 3ms/step - loss: 9394.7842 - mae: 59.0907 - val_loss: 14353.5918 - val_mae: 67.0305\n",
            "Epoch 10/50\n",
            "\u001b[1m204/204\u001b[0m \u001b[32m━━━━━━━━━━━━━━━━━━━━\u001b[0m\u001b[37m\u001b[0m \u001b[1m1s\u001b[0m 4ms/step - loss: 6649.3418 - mae: 57.0586 - val_loss: 14270.9219 - val_mae: 67.0106\n",
            "Epoch 11/50\n",
            "\u001b[1m204/204\u001b[0m \u001b[32m━━━━━━━━━━━━━━━━━━━━\u001b[0m\u001b[37m\u001b[0m \u001b[1m1s\u001b[0m 2ms/step - loss: 7180.6030 - mae: 58.2878 - val_loss: 14267.3174 - val_mae: 66.7750\n",
            "Epoch 12/50\n",
            "\u001b[1m204/204\u001b[0m \u001b[32m━━━━━━━━━━━━━━━━━━━━\u001b[0m\u001b[37m\u001b[0m \u001b[1m1s\u001b[0m 2ms/step - loss: 7183.9380 - mae: 56.8271 - val_loss: 14356.3623 - val_mae: 67.0366\n",
            "Epoch 13/50\n",
            "\u001b[1m204/204\u001b[0m \u001b[32m━━━━━━━━━━━━━━━━━━━━\u001b[0m\u001b[37m\u001b[0m \u001b[1m1s\u001b[0m 2ms/step - loss: 9110.1406 - mae: 57.4439 - val_loss: 14243.2930 - val_mae: 67.0028\n",
            "Epoch 14/50\n",
            "\u001b[1m204/204\u001b[0m \u001b[32m━━━━━━━━━━━━━━━━━━━━\u001b[0m\u001b[37m\u001b[0m \u001b[1m1s\u001b[0m 2ms/step - loss: 7088.1230 - mae: 57.3377 - val_loss: 14180.0273 - val_mae: 66.3978\n",
            "Epoch 15/50\n",
            "\u001b[1m204/204\u001b[0m \u001b[32m━━━━━━━━━━━━━━━━━━━━\u001b[0m\u001b[37m\u001b[0m \u001b[1m1s\u001b[0m 2ms/step - loss: 6573.9805 - mae: 56.5349 - val_loss: 14172.6309 - val_mae: 66.4493\n",
            "Epoch 16/50\n",
            "\u001b[1m204/204\u001b[0m \u001b[32m━━━━━━━━━━━━━━━━━━━━\u001b[0m\u001b[37m\u001b[0m \u001b[1m1s\u001b[0m 2ms/step - loss: 7162.5884 - mae: 56.7683 - val_loss: 14122.2227 - val_mae: 66.3911\n",
            "Epoch 17/50\n",
            "\u001b[1m204/204\u001b[0m \u001b[32m━━━━━━━━━━━━━━━━━━━━\u001b[0m\u001b[37m\u001b[0m \u001b[1m0s\u001b[0m 2ms/step - loss: 6051.8418 - mae: 55.4883 - val_loss: 14089.2324 - val_mae: 65.9907\n",
            "Epoch 18/50\n",
            "\u001b[1m204/204\u001b[0m \u001b[32m━━━━━━━━━━━━━━━━━━━━\u001b[0m\u001b[37m\u001b[0m \u001b[1m0s\u001b[0m 2ms/step - loss: 8888.6396 - mae: 58.0835 - val_loss: 14110.8389 - val_mae: 65.6755\n",
            "Epoch 19/50\n",
            "\u001b[1m204/204\u001b[0m \u001b[32m━━━━━━━━━━━━━━━━━━━━\u001b[0m\u001b[37m\u001b[0m \u001b[1m0s\u001b[0m 2ms/step - loss: 9216.1826 - mae: 57.4304 - val_loss: 14072.4600 - val_mae: 65.6801\n",
            "Epoch 20/50\n",
            "\u001b[1m204/204\u001b[0m \u001b[32m━━━━━━━━━━━━━━━━━━━━\u001b[0m\u001b[37m\u001b[0m \u001b[1m1s\u001b[0m 2ms/step - loss: 6853.8726 - mae: 56.9183 - val_loss: 14029.8057 - val_mae: 65.6567\n",
            "Epoch 21/50\n",
            "\u001b[1m204/204\u001b[0m \u001b[32m━━━━━━━━━━━━━━━━━━━━\u001b[0m\u001b[37m\u001b[0m \u001b[1m0s\u001b[0m 2ms/step - loss: 7197.0996 - mae: 56.3157 - val_loss: 14088.1201 - val_mae: 65.8384\n",
            "Epoch 22/50\n",
            "\u001b[1m204/204\u001b[0m \u001b[32m━━━━━━━━━━━━━━━━━━━━\u001b[0m\u001b[37m\u001b[0m \u001b[1m1s\u001b[0m 2ms/step - loss: 7167.5698 - mae: 55.5023 - val_loss: 13962.8389 - val_mae: 65.5186\n",
            "Epoch 23/50\n",
            "\u001b[1m204/204\u001b[0m \u001b[32m━━━━━━━━━━━━━━━━━━━━\u001b[0m\u001b[37m\u001b[0m \u001b[1m0s\u001b[0m 2ms/step - loss: 11020.5127 - mae: 57.1175 - val_loss: 13977.6973 - val_mae: 65.7825\n",
            "Epoch 24/50\n",
            "\u001b[1m204/204\u001b[0m \u001b[32m━━━━━━━━━━━━━━━━━━━━\u001b[0m\u001b[37m\u001b[0m \u001b[1m1s\u001b[0m 2ms/step - loss: 7715.3833 - mae: 56.1336 - val_loss: 14002.3232 - val_mae: 65.2600\n",
            "Epoch 25/50\n",
            "\u001b[1m204/204\u001b[0m \u001b[32m━━━━━━━━━━━━━━━━━━━━\u001b[0m\u001b[37m\u001b[0m \u001b[1m1s\u001b[0m 2ms/step - loss: 7557.9331 - mae: 57.3268 - val_loss: 13958.2930 - val_mae: 65.8425\n",
            "Epoch 26/50\n",
            "\u001b[1m204/204\u001b[0m \u001b[32m━━━━━━━━━━━━━━━━━━━━\u001b[0m\u001b[37m\u001b[0m \u001b[1m0s\u001b[0m 2ms/step - loss: 6702.3193 - mae: 55.5979 - val_loss: 13913.7373 - val_mae: 65.6355\n",
            "Epoch 27/50\n",
            "\u001b[1m204/204\u001b[0m \u001b[32m━━━━━━━━━━━━━━━━━━━━\u001b[0m\u001b[37m\u001b[0m \u001b[1m1s\u001b[0m 2ms/step - loss: 6917.3496 - mae: 56.2994 - val_loss: 13958.1299 - val_mae: 65.3059\n",
            "Epoch 28/50\n",
            "\u001b[1m204/204\u001b[0m \u001b[32m━━━━━━━━━━━━━━━━━━━━\u001b[0m\u001b[37m\u001b[0m \u001b[1m1s\u001b[0m 2ms/step - loss: 7978.0835 - mae: 56.5307 - val_loss: 13876.9473 - val_mae: 65.1866\n",
            "Epoch 29/50\n",
            "\u001b[1m204/204\u001b[0m \u001b[32m━━━━━━━━━━━━━━━━━━━━\u001b[0m\u001b[37m\u001b[0m \u001b[1m1s\u001b[0m 3ms/step - loss: 6902.8413 - mae: 56.4487 - val_loss: 13851.7939 - val_mae: 65.1903\n",
            "Epoch 30/50\n",
            "\u001b[1m204/204\u001b[0m \u001b[32m━━━━━━━━━━━━━━━━━━━━\u001b[0m\u001b[37m\u001b[0m \u001b[1m1s\u001b[0m 3ms/step - loss: 8570.0166 - mae: 56.5007 - val_loss: 13846.7305 - val_mae: 65.0375\n",
            "Epoch 31/50\n",
            "\u001b[1m204/204\u001b[0m \u001b[32m━━━━━━━━━━━━━━━━━━━━\u001b[0m\u001b[37m\u001b[0m \u001b[1m1s\u001b[0m 2ms/step - loss: 7034.0522 - mae: 56.1098 - val_loss: 13854.1250 - val_mae: 64.9197\n",
            "Epoch 32/50\n",
            "\u001b[1m204/204\u001b[0m \u001b[32m━━━━━━━━━━━━━━━━━━━━\u001b[0m\u001b[37m\u001b[0m \u001b[1m0s\u001b[0m 2ms/step - loss: 9139.4062 - mae: 56.3557 - val_loss: 13830.4424 - val_mae: 64.9473\n",
            "Epoch 33/50\n",
            "\u001b[1m204/204\u001b[0m \u001b[32m━━━━━━━━━━━━━━━━━━━━\u001b[0m\u001b[37m\u001b[0m \u001b[1m1s\u001b[0m 2ms/step - loss: 7670.8594 - mae: 56.0726 - val_loss: 13937.4844 - val_mae: 66.6604\n",
            "Epoch 34/50\n",
            "\u001b[1m204/204\u001b[0m \u001b[32m━━━━━━━━━━━━━━━━━━━━\u001b[0m\u001b[37m\u001b[0m \u001b[1m0s\u001b[0m 2ms/step - loss: 6238.7568 - mae: 54.9434 - val_loss: 13799.9971 - val_mae: 65.2659\n",
            "Epoch 35/50\n",
            "\u001b[1m204/204\u001b[0m \u001b[32m━━━━━━━━━━━━━━━━━━━━\u001b[0m\u001b[37m\u001b[0m \u001b[1m1s\u001b[0m 2ms/step - loss: 6124.7632 - mae: 55.5294 - val_loss: 13834.4980 - val_mae: 65.8579\n",
            "Epoch 36/50\n",
            "\u001b[1m204/204\u001b[0m \u001b[32m━━━━━━━━━━━━━━━━━━━━\u001b[0m\u001b[37m\u001b[0m \u001b[1m1s\u001b[0m 2ms/step - loss: 8060.6816 - mae: 56.8314 - val_loss: 13792.9805 - val_mae: 65.0775\n",
            "Epoch 37/50\n",
            "\u001b[1m204/204\u001b[0m \u001b[32m━━━━━━━━━━━━━━━━━━━━\u001b[0m\u001b[37m\u001b[0m \u001b[1m1s\u001b[0m 2ms/step - loss: 7582.6738 - mae: 55.9419 - val_loss: 13843.0137 - val_mae: 64.6726\n",
            "Epoch 38/50\n",
            "\u001b[1m204/204\u001b[0m \u001b[32m━━━━━━━━━━━━━━━━━━━━\u001b[0m\u001b[37m\u001b[0m \u001b[1m0s\u001b[0m 2ms/step - loss: 6216.4038 - mae: 55.4145 - val_loss: 13781.2803 - val_mae: 64.7759\n",
            "Epoch 39/50\n",
            "\u001b[1m204/204\u001b[0m \u001b[32m━━━━━━━━━━━━━━━━━━━━\u001b[0m\u001b[37m\u001b[0m \u001b[1m1s\u001b[0m 2ms/step - loss: 8425.2295 - mae: 56.2651 - val_loss: 13759.7734 - val_mae: 65.0844\n",
            "Epoch 40/50\n",
            "\u001b[1m204/204\u001b[0m \u001b[32m━━━━━━━━━━━━━━━━━━━━\u001b[0m\u001b[37m\u001b[0m \u001b[1m1s\u001b[0m 2ms/step - loss: 7726.2471 - mae: 56.0046 - val_loss: 13735.6074 - val_mae: 65.0483\n",
            "Epoch 41/50\n",
            "\u001b[1m204/204\u001b[0m \u001b[32m━━━━━━━━━━━━━━━━━━━━\u001b[0m\u001b[37m\u001b[0m \u001b[1m1s\u001b[0m 2ms/step - loss: 6809.9878 - mae: 54.8921 - val_loss: 13705.6357 - val_mae: 64.6012\n",
            "Epoch 42/50\n",
            "\u001b[1m204/204\u001b[0m \u001b[32m━━━━━━━━━━━━━━━━━━━━\u001b[0m\u001b[37m\u001b[0m \u001b[1m0s\u001b[0m 2ms/step - loss: 6859.9355 - mae: 55.8745 - val_loss: 13682.0938 - val_mae: 64.7483\n",
            "Epoch 43/50\n",
            "\u001b[1m204/204\u001b[0m \u001b[32m━━━━━━━━━━━━━━━━━━━━\u001b[0m\u001b[37m\u001b[0m \u001b[1m0s\u001b[0m 2ms/step - loss: 11261.3906 - mae: 57.9075 - val_loss: 13702.5400 - val_mae: 65.2970\n",
            "Epoch 44/50\n",
            "\u001b[1m204/204\u001b[0m \u001b[32m━━━━━━━━━━━━━━━━━━━━\u001b[0m\u001b[37m\u001b[0m \u001b[1m0s\u001b[0m 2ms/step - loss: 7621.3223 - mae: 56.0344 - val_loss: 13734.2627 - val_mae: 65.0674\n",
            "Epoch 45/50\n",
            "\u001b[1m204/204\u001b[0m \u001b[32m━━━━━━━━━━━━━━━━━━━━\u001b[0m\u001b[37m\u001b[0m \u001b[1m1s\u001b[0m 2ms/step - loss: 7439.0200 - mae: 54.8645 - val_loss: 13684.3584 - val_mae: 64.7942\n",
            "Epoch 46/50\n",
            "\u001b[1m204/204\u001b[0m \u001b[32m━━━━━━━━━━━━━━━━━━━━\u001b[0m\u001b[37m\u001b[0m \u001b[1m0s\u001b[0m 2ms/step - loss: 6166.7993 - mae: 54.4084 - val_loss: 13653.1270 - val_mae: 64.5672\n",
            "Epoch 47/50\n",
            "\u001b[1m204/204\u001b[0m \u001b[32m━━━━━━━━━━━━━━━━━━━━\u001b[0m\u001b[37m\u001b[0m \u001b[1m0s\u001b[0m 2ms/step - loss: 7184.5259 - mae: 54.9145 - val_loss: 13630.5527 - val_mae: 64.5917\n",
            "Epoch 48/50\n",
            "\u001b[1m204/204\u001b[0m \u001b[32m━━━━━━━━━━━━━━━━━━━━\u001b[0m\u001b[37m\u001b[0m \u001b[1m1s\u001b[0m 2ms/step - loss: 6843.1094 - mae: 55.2947 - val_loss: 13594.4424 - val_mae: 64.5684\n",
            "Epoch 49/50\n",
            "\u001b[1m204/204\u001b[0m \u001b[32m━━━━━━━━━━━━━━━━━━━━\u001b[0m\u001b[37m\u001b[0m \u001b[1m1s\u001b[0m 3ms/step - loss: 10588.7168 - mae: 57.2292 - val_loss: 13597.6035 - val_mae: 64.4318\n",
            "Epoch 50/50\n",
            "\u001b[1m204/204\u001b[0m \u001b[32m━━━━━━━━━━━━━━━━━━━━\u001b[0m\u001b[37m\u001b[0m \u001b[1m1s\u001b[0m 3ms/step - loss: 5852.8848 - mae: 52.8368 - val_loss: 13566.5908 - val_mae: 64.5177\n"
          ]
        }
      ]
    },
    {
      "cell_type": "markdown",
      "source": [
        "**Plot training loss**"
      ],
      "metadata": {
        "id": "F_pPuoiWNQAT"
      }
    },
    {
      "cell_type": "code",
      "source": [
        "import matplotlib.pyplot as plt\n",
        "plt.plot(history.history['loss'], label='Training Loss', marker='o')\n",
        "plt.plot(history.history['val_loss'], label='Validation Loss', marker='o')\n",
        "plt.xlabel('Epoch')\n",
        "plt.legend()\n",
        "plt.ylabel('Loss')\n",
        "plt.show()"
      ],
      "metadata": {
        "colab": {
          "base_uri": "https://localhost:8080/",
          "height": 449
        },
        "id": "3oY_4E0RMoLj",
        "outputId": "e355c721-40b0-424b-c91c-d23ef1e197c7"
      },
      "execution_count": null,
      "outputs": [
        {
          "output_type": "display_data",
          "data": {
            "text/plain": [
              "<Figure size 640x480 with 1 Axes>"
            ],
            "image/png": "[encoded data removed]"
          },
          "metadata": {}
        }
      ]
    },
    {
      "cell_type": "code",
      "source": [
        "ethanol = [2.0, 1.0, 0.0, 6.0] # C, O, N, H\n",
        "ethanol = tf.convert_to_tensor(ethanol)\n",
        "ethanol = tf.reshape(ethanol, [1, 4])\n",
        "model.predict([ethanol])"
      ],
      "metadata": {
        "colab": {
          "base_uri": "https://localhost:8080/"
        },
        "id": "vgHIDu2DNWLG",
        "outputId": "ba7819a4-621a-4260-80a1-e1634dc83a44"
      },
      "execution_count": null,
      "outputs": [
        {
          "output_type": "stream",
          "name": "stdout",
          "text": [
            "\u001b[1m1/1\u001b[0m \u001b[32m━━━━━━━━━━━━━━━━━━━━\u001b[0m\u001b[37m\u001b[0m \u001b[1m0s\u001b[0m 145ms/step\n"
          ]
        },
        {
          "output_type": "stream",
          "name": "stderr",
          "text": [
            "/usr/local/lib/python3.11/dist-packages/keras/src/models/functional.py:237: UserWarning: The structure of `inputs` doesn't match the expected structure.\n",
            "Expected: keras_tensor\n",
            "Received: inputs=('Tensor(shape=(1, 4))',)\n",
            "  warnings.warn(msg)\n"
          ]
        },
        {
          "output_type": "execute_result",
          "data": {
            "text/plain": [
              "array([[28.732103]], dtype=float32)"
            ]
          },
          "metadata": {},
          "execution_count": 9
        }
      ]
    }
  ]
}