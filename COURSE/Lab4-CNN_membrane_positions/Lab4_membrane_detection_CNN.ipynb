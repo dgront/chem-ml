{
  "nbformat": 4,
  "nbformat_minor": 0,
  "metadata": {
    "colab": {
      "provenance": []
    },
    "kernelspec": {
      "name": "python3",
      "display_name": "Python 3"
    },
    "language_info": {
      "name": "python"
    }
  },
  "cells": [
    {
      "cell_type": "markdown",
      "source": [
        "# 1. Read and parse the training data"
      ],
      "metadata": {
        "id": "SpQH3Un4YYoE"
      }
    },
    {
      "cell_type": "code",
      "execution_count": 1,
      "metadata": {
        "colab": {
          "base_uri": "https://localhost:8080/"
        },
        "id": "kbPd8Ca1Xmuz",
        "outputId": "25a6f69c-7c5b-4f77-9b45-175834ad7cca"
      },
      "outputs": [
        {
          "output_type": "stream",
          "name": "stdout",
          "text": [
            "  pdb_id chain_code                                           sequence  \\\n",
            "0   1a0b          _  TTEENSKSEALLDIPMLEQYLELVGPKLITDGLAVFEKMMPGYVSV...   \n",
            "1   2a00          A  MGHHHHHHHHHHSSGHGGRHNRQASEFIPAQGVDEKTLADAAQLAS...   \n",
            "2   7a0w          A  MKHLHRFFSSDASGGIILIIAAALAMLMANMGATSGWYHDFLETPV...   \n",
            "3   7a0w          B  MKHLHRFFSSDASGGIILIIAAALAMLMANMGATSGWYHDFLETPV...   \n",
            "4   2a06          A  TATYAQALQSVPETQVSQLDNGLRVASEQSSQPTCTVGVWIDAGSR...   \n",
            "\n",
            "                                        region_types  \n",
            "0  UUUUUU1111111111111111111111111111111111111111...  \n",
            "1  UUUUUUUUUUUUUUUUUUUU11111111111111111111111111...  \n",
            "2  UUUUUUUUUUU111HHHHHHHHHHHHHH222222222222222222...  \n",
            "3  UUUUUUUUUU1111HHHHHHHHHHHHHH222222222222222222...  \n",
            "4  2222222222222222222222222222222222222222222222...  \n"
          ]
        }
      ],
      "source": [
        "import pandas as pd\n",
        "\n",
        "# Replace with your actual GitHub repo URL\n",
        "url = \"https://raw.githubusercontent.com/dgront/chem-ml/refs/heads/main/INPUTS/membrane_proteins/pdbtm.dat\"\n",
        "\n",
        "try:\n",
        "  df = pd.read_csv(url, sep='\\t')\n",
        "  print(df.head())  # Display the first few rows of the DataFrame\n",
        "except Exception as e:\n",
        "  print(f\"An error occurred: {e}\")\n"
      ]
    },
    {
      "cell_type": "code",
      "source": [
        "sequences = df['sequence'].tolist()\n",
        "region_types = df['region_types'].tolist()\n",
        "print(len(sequences), len(region_types))"
      ],
      "metadata": {
        "colab": {
          "base_uri": "https://localhost:8080/"
        },
        "id": "WBvfrBocYTDU",
        "outputId": "4b192872-ab9c-4155-f672-1f1676917bc0"
      },
      "execution_count": 2,
      "outputs": [
        {
          "output_type": "stream",
          "name": "stdout",
          "text": [
            "65705 65705\n"
          ]
        }
      ]
    },
    {
      "cell_type": "markdown",
      "source": [
        "# 2. Encode both inputs and outputs in one-hot encoding"
      ],
      "metadata": {
        "id": "jNu6YSPyY5CL"
      }
    },
    {
      "cell_type": "code",
      "source": [],
      "metadata": {
        "id": "6TKJwJK8Y_AB"
      },
      "execution_count": null,
      "outputs": []
    }
  ]
}