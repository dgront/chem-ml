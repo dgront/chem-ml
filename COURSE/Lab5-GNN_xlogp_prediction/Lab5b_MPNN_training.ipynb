{
  "cells": [
    {
      "cell_type": "code",
      "source": [
        "!wget https://raw.githubusercontent.com/dgront/chem-ml/refs/heads/main/COURSE/Lab5-GNN_xlogp_prediction/Lab5a_GNN_SMILES_processing.ipynb\n",
        "%run Lab5a_GNN_SMILES_processing.ipynb"
      ],
      "metadata": {
        "id": "J7GBAk3nlTeO"
      },
      "execution_count": null,
      "outputs": []
    },
    {
      "cell_type": "code",
      "execution_count": 3,
      "metadata": {
        "id": "D3FX-e0v8v9Q"
      },
      "outputs": [],
      "source": [
        "import tensorflow as tf\n",
        "\n",
        "def edge_enhanced_gnn_layer(node_features, edge_index, edge_features,\n",
        "                            node_mlp_weights, message_mlp_weights):\n",
        "    \"\"\"\n",
        "    Pure function implementing the MPNN layer with edge features.\n",
        "\n",
        "    Args:\n",
        "        node_features: Tensor of shape (N, node_feat_dim); N = number of nodes\n",
        "        edge_index: Tensor of shape (2, M); M = number of edges\n",
        "        edge_features: Tensor of shape (M, edge_feat_dim)\n",
        "        node_mlp_weights: a Dense layer or weights for node update\n",
        "        message_mlp_weights: a Dense layer or weights for message generation\n",
        "\n",
        "    Returns:\n",
        "        Updated node features: Tensor of shape (N, output_dim)\n",
        "    \"\"\"\n",
        "    source = edge_index[0]  # (M,) edges from\n",
        "    target = edge_index[1]  # (M,) edges to\n",
        "\n",
        "    source_features = tf.gather(node_features, source)  # (M, node_feat_dim)\n",
        "    message_inputs = tf.concat([source_features, edge_features], axis=-1)  # (M, node_feat_dim + edge_feat_dim)\n",
        "\n",
        "    # Apply message MLP\n",
        "    messages = message_mlp_weights(message_inputs)  # transforms (M, gnn_input_dim) to (M, hidden_dim); network size is gnn_input_dim x hidden_dim\n",
        "\n",
        "    # Aggregate messages for each target node\n",
        "    N = tf.shape(node_features)[0]\n",
        "    hidden_dim = messages.shape[-1]\n",
        "    aggregated = tf.zeros((N, hidden_dim), dtype=messages.dtype)\n",
        "\n",
        "    # sum up transformed messages arriving at every node using the 'target' indexes\n",
        "    # Input tensor to be processed is (M, hidden_dim); given indexing tensor (M,1)\n",
        "    # with elements [0, N) we get (N, hidden_dim)\n",
        "    aggregated = tf.tensor_scatter_nd_add(\n",
        "        aggregated,\n",
        "        tf.expand_dims(target, axis=1),  # (M, 1)\n",
        "        messages\n",
        "    )  # (N, hidden_dim)\n",
        "\n",
        "    # Apply node update MLP\n",
        "    updated_nodes = node_mlp_weights(aggregated)  # (N, hidden_dim)\n",
        "\n",
        "    return updated_nodes\n"
      ]
    },
    {
      "cell_type": "code",
      "source": [
        "print(V_train[0].shape)\n",
        "print(E_i_train[0].shape)\n",
        "print(E_f_train[0].shape)"
      ],
      "metadata": {
        "colab": {
          "base_uri": "https://localhost:8080/"
        },
        "id": "wo4-HLoHm3_J",
        "outputId": "b75c3a83-3860-4687-fc03-95b0d197c23d"
      },
      "execution_count": 4,
      "outputs": [
        {
          "output_type": "stream",
          "name": "stdout",
          "text": [
            "(4, 41)\n",
            "(2, 3)\n",
            "(3, 5)\n"
          ]
        }
      ]
    },
    {
      "cell_type": "code",
      "execution_count": 5,
      "metadata": {
        "colab": {
          "base_uri": "https://localhost:8080/"
        },
        "id": "IUViyLtS9GuA",
        "outputId": "80ff435d-9cf0-4aa7-e7ad-7b02b07f112c"
      },
      "outputs": [
        {
          "output_type": "stream",
          "name": "stderr",
          "text": [
            "/usr/local/lib/python3.11/dist-packages/keras/src/layers/core/dense.py:87: UserWarning: Do not pass an `input_shape`/`input_dim` argument to a layer. When using Sequential models, prefer using an `Input(shape)` object as the first layer in the model instead.\n",
            "  super().__init__(activity_regularizer=activity_regularizer, **kwargs)\n"
          ]
        },
        {
          "output_type": "stream",
          "name": "stdout",
          "text": [
            "(4, 64)\n",
            "tf.Tensor([-0.03424795], shape=(1,), dtype=float32)\n"
          ]
        }
      ],
      "source": [
        "# Dimensions\n",
        "node_dim = V_train[0].shape[1]        # The number of features for an atom\n",
        "edge_dim = E_f_train[0].shape[1]      # The number of features for a bond\n",
        "gnn_input_dim = node_dim + edge_dim\n",
        "gnn_hidden_dim = 64\n",
        "hidden_layer_dim = 32\n",
        "\n",
        "# Create MLPs\n",
        "message_mlp = tf.keras.layers.Dense(gnn_hidden_dim, activation='relu', input_shape=(gnn_input_dim,))\n",
        "node_mlp = tf.keras.layers.Dense(gnn_hidden_dim, activation='relu')\n",
        "hidden_layer = tf.keras.layers.Dense(hidden_layer_dim, activation='relu')\n",
        "output_layer = tf.keras.layers.Dense(1, activation=None)  # Predicting a real number\n",
        "\n",
        "# Define the full forward function\n",
        "def forward_pass(node_features, edge_index, edge_features,\n",
        "                 message_mlp, node_mlp, hidden_layer, output_layer):\n",
        "    \"\"\"\n",
        "    Full forward pass through the GNN + hidden layer + output layer.\n",
        "    \"\"\"\n",
        "    # 1. GNN layer\n",
        "    updated_nodes = edge_enhanced_gnn_layer(node_features, edge_index, edge_features,\n",
        "                                            node_mlp, message_mlp)\n",
        "\n",
        "    # 2. Global pooling (average pooling across all nodes)\n",
        "    graph_embedding = tf.reduce_mean(updated_nodes, axis=0)  # (hidden_dim,)\n",
        "\n",
        "    # 3. Hidden dense layer\n",
        "    hidden = hidden_layer(tf.expand_dims(graph_embedding, axis=0))  # (1, hidden_dim_2)\n",
        "\n",
        "    # 4. Output layer\n",
        "    output = output_layer(hidden)  # (1, 1)\n",
        "\n",
        "    return tf.squeeze(output, axis=0)  # Return scalar\n",
        "\n",
        "# One layer call as a test\n",
        "updated_nodes = edge_enhanced_gnn_layer(V_train[0], E_i_train[0], E_f_train[0], node_mlp, message_mlp)\n",
        "\n",
        "print(updated_nodes.shape)  # (10, 64)\n",
        "\n",
        "val = forward_pass(V_train[0], E_i_train[0], E_f_train[0], message_mlp, node_mlp, hidden_layer, output_layer)\n",
        "print(val)\n"
      ]
    },
    {
      "cell_type": "code",
      "source": [
        "num_graphs = len(V_train)\n",
        "epochs = 50\n",
        "optimizer = tf.keras.optimizers.Adam(learning_rate=1e-3)\n",
        "loss_fn = tf.keras.losses.MeanSquaredError()\n",
        "\n",
        "# Containers for tracking metrics\n",
        "train_losses = []\n",
        "val_losses = []\n",
        "train_accuracies = []\n",
        "val_accuracies = []\n",
        "\n",
        "for epoch in range(epochs):\n",
        "    total_loss = 0.0\n",
        "    total_accuracy = 0.0\n",
        "\n",
        "    # --- Training loop over all molecular graphs in the training set ---\n",
        "    for node_features, edge_index, edge_features, target, name, formula in zip(V_train, E_i_train, E_f_train, Y_train, names_train, formulas_train):\n",
        "        with tf.GradientTape() as tape:\n",
        "            try:\n",
        "                prediction = forward_pass(node_features, edge_index, edge_features,\n",
        "                                          message_mlp, node_mlp, hidden_layer, output_layer)\n",
        "            except:\n",
        "                print(name, formula, node_features.shape)\n",
        "                break\n",
        "\n",
        "            loss = loss_fn(target, prediction)\n",
        "\n",
        "        # Update model weights\n",
        "        trainable_vars = (message_mlp.trainable_variables +\n",
        "                          node_mlp.trainable_variables +\n",
        "                          hidden_layer.trainable_variables +\n",
        "                          output_layer.trainable_variables)\n",
        "        gradients = tape.gradient(loss, trainable_vars)\n",
        "        optimizer.apply_gradients(zip(gradients, trainable_vars))\n",
        "\n",
        "        total_loss += loss.numpy()\n",
        "        total_accuracy += tf.reduce_mean(tf.abs(target - prediction))\n",
        "\n",
        "    avg_train_loss = total_loss / num_graphs\n",
        "    avg_train_acc = total_accuracy / num_graphs\n",
        "    train_losses.append(avg_train_loss)\n",
        "    train_accuracies.append(avg_train_acc)\n",
        "\n",
        "    # --- Validation loop ---\n",
        "    val_total_loss = 0.0\n",
        "    val_total_accuracy = 0.0\n",
        "    val_num_graphs = len(V_val)\n",
        "\n",
        "    for node_features, edge_index, edge_features, target in zip(V_val, E_i_val, E_f_val, Y_val):\n",
        "        prediction = forward_pass(node_features, edge_index, edge_features,\n",
        "                                  message_mlp, node_mlp, hidden_layer, output_layer)\n",
        "        val_loss = loss_fn(target, prediction)\n",
        "        val_acc = tf.reduce_mean(tf.abs(target - prediction))\n",
        "        val_total_loss += val_loss.numpy()\n",
        "        val_total_accuracy += val_acc.numpy()\n",
        "\n",
        "    avg_val_loss = val_total_loss / val_num_graphs\n",
        "    avg_val_acc = val_total_accuracy / val_num_graphs\n",
        "    val_losses.append(avg_val_loss)\n",
        "    val_accuracies.append(avg_val_acc)\n",
        "\n",
        "    print(f\"Epoch {epoch+1}, Train Loss: {avg_train_loss:.4f}, Train Acc: {avg_train_acc:.4f}, \"\n",
        "          f\"Val Loss: {avg_val_loss:.4f}, Val Acc: {avg_val_acc:.4f}\")\n"
      ],
      "metadata": {
        "id": "wZZUBM8fV30N"
      },
      "execution_count": null,
      "outputs": []
    },
    {
      "cell_type": "code",
      "source": [
        "import matplotlib.pyplot as plt\n",
        "\n",
        "epochs = range(1, len(train_losses) + 1)\n",
        "\n",
        "\n",
        "# Plot training accuracy\n",
        "plt.figure(figsize=(10, 5))\n",
        "plt.subplot(1, 2, 1)\n",
        "plt.plot(epochs, train_losses, label='Training MSE')\n",
        "plt.plot(epochs, val_losses, label='Validation MSE')\n",
        "plt.xlabel('Epoch')\n",
        "plt.ylabel('Loss')\n",
        "plt.legend()\n",
        "\n",
        "# Plot training loss\n",
        "plt.subplot(1, 2, 2)\n",
        "plt.plot(epochs, train_accuracies, label='Training MAE')\n",
        "plt.plot(epochs, val_accuracies, label='Validation MAE')\n",
        "plt.xlabel('Epoch')\n",
        "plt.ylabel('accuracy')\n",
        "plt.legend()\n",
        "\n",
        "plt.tight_layout()\n",
        "plt.show()\n"
      ],
      "metadata": {
        "id": "ghDnePFsUFmB"
      },
      "execution_count": null,
      "outputs": []
    }
  ],
  "metadata": {
    "accelerator": "GPU",
    "colab": {
      "gpuType": "T4",
      "provenance": []
    },
    "kernelspec": {
      "display_name": "Python 3",
      "name": "python3"
    },
    "language_info": {
      "name": "python"
    }
  },
  "nbformat": 4,
  "nbformat_minor": 0
}